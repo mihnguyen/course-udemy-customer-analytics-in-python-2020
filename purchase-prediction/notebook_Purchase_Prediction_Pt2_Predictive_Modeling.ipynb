{
  "nbformat": 4,
  "nbformat_minor": 0,
  "metadata": {
    "colab": {
      "name": "[Udemy CAiP] Purchase Prediction Pt2 - Predictive Modeling.ipynb",
      "provenance": [],
      "authorship_tag": "ABX9TyNY9sLFfbyqeQ/6gWdhbPDo",
      "include_colab_link": true
    },
    "kernelspec": {
      "name": "python3",
      "display_name": "Python 3"
    }
  },
  "cells": [
    {
      "cell_type": "markdown",
      "metadata": {
        "id": "view-in-github",
        "colab_type": "text"
      },
      "source": [
        "<a href=\"https://colab.research.google.com/github/mihnguyen/udemy-customer-analytics/blob/main/purchase-prediction/notebook_Purchase_Prediction_Pt2_Predictive_Modeling.ipynb\" target=\"_parent\"><img src=\"https://colab.research.google.com/assets/colab-badge.svg\" alt=\"Open In Colab\"/></a>"
      ]
    },
    {
      "cell_type": "markdown",
      "metadata": {
        "id": "TlBdQGLyvGZK"
      },
      "source": [
        "This notebook is part 2 and a continuation of the [[Udemy CAiP] Purchase Prediction Pt1 - Descriptive Analysis notebook](https://colab.research.google.com/drive/1Acmi4BOuO1V7LCxbnMCVzu46vFSpftA6#scrollTo=97I0svM77BjK&uniqifier=1).\n",
        "While part 1 is descriptive analysis, part 2 will concern predictive modeling."
      ]
    },
    {
      "cell_type": "markdown",
      "metadata": {
        "id": "gs4FJpZB4SpO"
      },
      "source": [
        "###Import Libraries"
      ]
    },
    {
      "cell_type": "code",
      "metadata": {
        "id": "YMXfBrP_u7_5"
      },
      "source": [
        "import numpy as np\n",
        "import pandas as pd\n",
        "\n",
        "from sklearn.preprocessing import StandardScaler\n",
        "from sklearn.decomposition import PCA\n",
        "from sklearn.cluster import KMeans\n",
        "\n",
        "import pickle\n",
        "\n",
        "from sklearn.linear_model import LogisticRegression"
      ],
      "execution_count": 1,
      "outputs": []
    },
    {
      "cell_type": "markdown",
      "metadata": {
        "id": "dWU4e--N4ZTt"
      },
      "source": [
        "###Import Purchase Data"
      ]
    },
    {
      "cell_type": "code",
      "metadata": {
        "id": "gz7E4GVf4dEj",
        "outputId": "84a1cf0a-d228-403e-c9ab-681e8689fa7b",
        "colab": {
          "resources": {
            "http://localhost:8080/nbextensions/google.colab/files.js": {
              "data": "Ly8gQ29weXJpZ2h0IDIwMTcgR29vZ2xlIExMQwovLwovLyBMaWNlbnNlZCB1bmRlciB0aGUgQXBhY2hlIExpY2Vuc2UsIFZlcnNpb24gMi4wICh0aGUgIkxpY2Vuc2UiKTsKLy8geW91IG1heSBub3QgdXNlIHRoaXMgZmlsZSBleGNlcHQgaW4gY29tcGxpYW5jZSB3aXRoIHRoZSBMaWNlbnNlLgovLyBZb3UgbWF5IG9idGFpbiBhIGNvcHkgb2YgdGhlIExpY2Vuc2UgYXQKLy8KLy8gICAgICBodHRwOi8vd3d3LmFwYWNoZS5vcmcvbGljZW5zZXMvTElDRU5TRS0yLjAKLy8KLy8gVW5sZXNzIHJlcXVpcmVkIGJ5IGFwcGxpY2FibGUgbGF3IG9yIGFncmVlZCB0byBpbiB3cml0aW5nLCBzb2Z0d2FyZQovLyBkaXN0cmlidXRlZCB1bmRlciB0aGUgTGljZW5zZSBpcyBkaXN0cmlidXRlZCBvbiBhbiAiQVMgSVMiIEJBU0lTLAovLyBXSVRIT1VUIFdBUlJBTlRJRVMgT1IgQ09ORElUSU9OUyBPRiBBTlkgS0lORCwgZWl0aGVyIGV4cHJlc3Mgb3IgaW1wbGllZC4KLy8gU2VlIHRoZSBMaWNlbnNlIGZvciB0aGUgc3BlY2lmaWMgbGFuZ3VhZ2UgZ292ZXJuaW5nIHBlcm1pc3Npb25zIGFuZAovLyBsaW1pdGF0aW9ucyB1bmRlciB0aGUgTGljZW5zZS4KCi8qKgogKiBAZmlsZW92ZXJ2aWV3IEhlbHBlcnMgZm9yIGdvb2dsZS5jb2xhYiBQeXRob24gbW9kdWxlLgogKi8KKGZ1bmN0aW9uKHNjb3BlKSB7CmZ1bmN0aW9uIHNwYW4odGV4dCwgc3R5bGVBdHRyaWJ1dGVzID0ge30pIHsKICBjb25zdCBlbGVtZW50ID0gZG9jdW1lbnQuY3JlYXRlRWxlbWVudCgnc3BhbicpOwogIGVsZW1lbnQudGV4dENvbnRlbnQgPSB0ZXh0OwogIGZvciAoY29uc3Qga2V5IG9mIE9iamVjdC5rZXlzKHN0eWxlQXR0cmlidXRlcykpIHsKICAgIGVsZW1lbnQuc3R5bGVba2V5XSA9IHN0eWxlQXR0cmlidXRlc1trZXldOwogIH0KICByZXR1cm4gZWxlbWVudDsKfQoKLy8gTWF4IG51bWJlciBvZiBieXRlcyB3aGljaCB3aWxsIGJlIHVwbG9hZGVkIGF0IGEgdGltZS4KY29uc3QgTUFYX1BBWUxPQURfU0laRSA9IDEwMCAqIDEwMjQ7CgpmdW5jdGlvbiBfdXBsb2FkRmlsZXMoaW5wdXRJZCwgb3V0cHV0SWQpIHsKICBjb25zdCBzdGVwcyA9IHVwbG9hZEZpbGVzU3RlcChpbnB1dElkLCBvdXRwdXRJZCk7CiAgY29uc3Qgb3V0cHV0RWxlbWVudCA9IGRvY3VtZW50LmdldEVsZW1lbnRCeUlkKG91dHB1dElkKTsKICAvLyBDYWNoZSBzdGVwcyBvbiB0aGUgb3V0cHV0RWxlbWVudCB0byBtYWtlIGl0IGF2YWlsYWJsZSBmb3IgdGhlIG5leHQgY2FsbAogIC8vIHRvIHVwbG9hZEZpbGVzQ29udGludWUgZnJvbSBQeXRob24uCiAgb3V0cHV0RWxlbWVudC5zdGVwcyA9IHN0ZXBzOwoKICByZXR1cm4gX3VwbG9hZEZpbGVzQ29udGludWUob3V0cHV0SWQpOwp9CgovLyBUaGlzIGlzIHJvdWdobHkgYW4gYXN5bmMgZ2VuZXJhdG9yIChub3Qgc3VwcG9ydGVkIGluIHRoZSBicm93c2VyIHlldCksCi8vIHdoZXJlIHRoZXJlIGFyZSBtdWx0aXBsZSBhc3luY2hyb25vdXMgc3RlcHMgYW5kIHRoZSBQeXRob24gc2lkZSBpcyBnb2luZwovLyB0byBwb2xsIGZvciBjb21wbGV0aW9uIG9mIGVhY2ggc3RlcC4KLy8gVGhpcyB1c2VzIGEgUHJvbWlzZSB0byBibG9jayB0aGUgcHl0aG9uIHNpZGUgb24gY29tcGxldGlvbiBvZiBlYWNoIHN0ZXAsCi8vIHRoZW4gcGFzc2VzIHRoZSByZXN1bHQgb2YgdGhlIHByZXZpb3VzIHN0ZXAgYXMgdGhlIGlucHV0IHRvIHRoZSBuZXh0IHN0ZXAuCmZ1bmN0aW9uIF91cGxvYWRGaWxlc0NvbnRpbnVlKG91dHB1dElkKSB7CiAgY29uc3Qgb3V0cHV0RWxlbWVudCA9IGRvY3VtZW50LmdldEVsZW1lbnRCeUlkKG91dHB1dElkKTsKICBjb25zdCBzdGVwcyA9IG91dHB1dEVsZW1lbnQuc3RlcHM7CgogIGNvbnN0IG5leHQgPSBzdGVwcy5uZXh0KG91dHB1dEVsZW1lbnQubGFzdFByb21pc2VWYWx1ZSk7CiAgcmV0dXJuIFByb21pc2UucmVzb2x2ZShuZXh0LnZhbHVlLnByb21pc2UpLnRoZW4oKHZhbHVlKSA9PiB7CiAgICAvLyBDYWNoZSB0aGUgbGFzdCBwcm9taXNlIHZhbHVlIHRvIG1ha2UgaXQgYXZhaWxhYmxlIHRvIHRoZSBuZXh0CiAgICAvLyBzdGVwIG9mIHRoZSBnZW5lcmF0b3IuCiAgICBvdXRwdXRFbGVtZW50Lmxhc3RQcm9taXNlVmFsdWUgPSB2YWx1ZTsKICAgIHJldHVybiBuZXh0LnZhbHVlLnJlc3BvbnNlOwogIH0pOwp9CgovKioKICogR2VuZXJhdG9yIGZ1bmN0aW9uIHdoaWNoIGlzIGNhbGxlZCBiZXR3ZWVuIGVhY2ggYXN5bmMgc3RlcCBvZiB0aGUgdXBsb2FkCiAqIHByb2Nlc3MuCiAqIEBwYXJhbSB7c3RyaW5nfSBpbnB1dElkIEVsZW1lbnQgSUQgb2YgdGhlIGlucHV0IGZpbGUgcGlja2VyIGVsZW1lbnQuCiAqIEBwYXJhbSB7c3RyaW5nfSBvdXRwdXRJZCBFbGVtZW50IElEIG9mIHRoZSBvdXRwdXQgZGlzcGxheS4KICogQHJldHVybiB7IUl0ZXJhYmxlPCFPYmplY3Q+fSBJdGVyYWJsZSBvZiBuZXh0IHN0ZXBzLgogKi8KZnVuY3Rpb24qIHVwbG9hZEZpbGVzU3RlcChpbnB1dElkLCBvdXRwdXRJZCkgewogIGNvbnN0IGlucHV0RWxlbWVudCA9IGRvY3VtZW50LmdldEVsZW1lbnRCeUlkKGlucHV0SWQpOwogIGlucHV0RWxlbWVudC5kaXNhYmxlZCA9IGZhbHNlOwoKICBjb25zdCBvdXRwdXRFbGVtZW50ID0gZG9jdW1lbnQuZ2V0RWxlbWVudEJ5SWQob3V0cHV0SWQpOwogIG91dHB1dEVsZW1lbnQuaW5uZXJIVE1MID0gJyc7CgogIGNvbnN0IHBpY2tlZFByb21pc2UgPSBuZXcgUHJvbWlzZSgocmVzb2x2ZSkgPT4gewogICAgaW5wdXRFbGVtZW50LmFkZEV2ZW50TGlzdGVuZXIoJ2NoYW5nZScsIChlKSA9PiB7CiAgICAgIHJlc29sdmUoZS50YXJnZXQuZmlsZXMpOwogICAgfSk7CiAgfSk7CgogIGNvbnN0IGNhbmNlbCA9IGRvY3VtZW50LmNyZWF0ZUVsZW1lbnQoJ2J1dHRvbicpOwogIGlucHV0RWxlbWVudC5wYXJlbnRFbGVtZW50LmFwcGVuZENoaWxkKGNhbmNlbCk7CiAgY2FuY2VsLnRleHRDb250ZW50ID0gJ0NhbmNlbCB1cGxvYWQnOwogIGNvbnN0IGNhbmNlbFByb21pc2UgPSBuZXcgUHJvbWlzZSgocmVzb2x2ZSkgPT4gewogICAgY2FuY2VsLm9uY2xpY2sgPSAoKSA9PiB7CiAgICAgIHJlc29sdmUobnVsbCk7CiAgICB9OwogIH0pOwoKICAvLyBXYWl0IGZvciB0aGUgdXNlciB0byBwaWNrIHRoZSBmaWxlcy4KICBjb25zdCBmaWxlcyA9IHlpZWxkIHsKICAgIHByb21pc2U6IFByb21pc2UucmFjZShbcGlja2VkUHJvbWlzZSwgY2FuY2VsUHJvbWlzZV0pLAogICAgcmVzcG9uc2U6IHsKICAgICAgYWN0aW9uOiAnc3RhcnRpbmcnLAogICAgfQogIH07CgogIGNhbmNlbC5yZW1vdmUoKTsKCiAgLy8gRGlzYWJsZSB0aGUgaW5wdXQgZWxlbWVudCBzaW5jZSBmdXJ0aGVyIHBpY2tzIGFyZSBub3QgYWxsb3dlZC4KICBpbnB1dEVsZW1lbnQuZGlzYWJsZWQgPSB0cnVlOwoKICBpZiAoIWZpbGVzKSB7CiAgICByZXR1cm4gewogICAgICByZXNwb25zZTogewogICAgICAgIGFjdGlvbjogJ2NvbXBsZXRlJywKICAgICAgfQogICAgfTsKICB9CgogIGZvciAoY29uc3QgZmlsZSBvZiBmaWxlcykgewogICAgY29uc3QgbGkgPSBkb2N1bWVudC5jcmVhdGVFbGVtZW50KCdsaScpOwogICAgbGkuYXBwZW5kKHNwYW4oZmlsZS5uYW1lLCB7Zm9udFdlaWdodDogJ2JvbGQnfSkpOwogICAgbGkuYXBwZW5kKHNwYW4oCiAgICAgICAgYCgke2ZpbGUudHlwZSB8fCAnbi9hJ30pIC0gJHtmaWxlLnNpemV9IGJ5dGVzLCBgICsKICAgICAgICBgbGFzdCBtb2RpZmllZDogJHsKICAgICAgICAgICAgZmlsZS5sYXN0TW9kaWZpZWREYXRlID8gZmlsZS5sYXN0TW9kaWZpZWREYXRlLnRvTG9jYWxlRGF0ZVN0cmluZygpIDoKICAgICAgICAgICAgICAgICAgICAgICAgICAgICAgICAgICAgJ24vYSd9IC0gYCkpOwogICAgY29uc3QgcGVyY2VudCA9IHNwYW4oJzAlIGRvbmUnKTsKICAgIGxpLmFwcGVuZENoaWxkKHBlcmNlbnQpOwoKICAgIG91dHB1dEVsZW1lbnQuYXBwZW5kQ2hpbGQobGkpOwoKICAgIGNvbnN0IGZpbGVEYXRhUHJvbWlzZSA9IG5ldyBQcm9taXNlKChyZXNvbHZlKSA9PiB7CiAgICAgIGNvbnN0IHJlYWRlciA9IG5ldyBGaWxlUmVhZGVyKCk7CiAgICAgIHJlYWRlci5vbmxvYWQgPSAoZSkgPT4gewogICAgICAgIHJlc29sdmUoZS50YXJnZXQucmVzdWx0KTsKICAgICAgfTsKICAgICAgcmVhZGVyLnJlYWRBc0FycmF5QnVmZmVyKGZpbGUpOwogICAgfSk7CiAgICAvLyBXYWl0IGZvciB0aGUgZGF0YSB0byBiZSByZWFkeS4KICAgIGxldCBmaWxlRGF0YSA9IHlpZWxkIHsKICAgICAgcHJvbWlzZTogZmlsZURhdGFQcm9taXNlLAogICAgICByZXNwb25zZTogewogICAgICAgIGFjdGlvbjogJ2NvbnRpbnVlJywKICAgICAgfQogICAgfTsKCiAgICAvLyBVc2UgYSBjaHVua2VkIHNlbmRpbmcgdG8gYXZvaWQgbWVzc2FnZSBzaXplIGxpbWl0cy4gU2VlIGIvNjIxMTU2NjAuCiAgICBsZXQgcG9zaXRpb24gPSAwOwogICAgd2hpbGUgKHBvc2l0aW9uIDwgZmlsZURhdGEuYnl0ZUxlbmd0aCkgewogICAgICBjb25zdCBsZW5ndGggPSBNYXRoLm1pbihmaWxlRGF0YS5ieXRlTGVuZ3RoIC0gcG9zaXRpb24sIE1BWF9QQVlMT0FEX1NJWkUpOwogICAgICBjb25zdCBjaHVuayA9IG5ldyBVaW50OEFycmF5KGZpbGVEYXRhLCBwb3NpdGlvbiwgbGVuZ3RoKTsKICAgICAgcG9zaXRpb24gKz0gbGVuZ3RoOwoKICAgICAgY29uc3QgYmFzZTY0ID0gYnRvYShTdHJpbmcuZnJvbUNoYXJDb2RlLmFwcGx5KG51bGwsIGNodW5rKSk7CiAgICAgIHlpZWxkIHsKICAgICAgICByZXNwb25zZTogewogICAgICAgICAgYWN0aW9uOiAnYXBwZW5kJywKICAgICAgICAgIGZpbGU6IGZpbGUubmFtZSwKICAgICAgICAgIGRhdGE6IGJhc2U2NCwKICAgICAgICB9LAogICAgICB9OwogICAgICBwZXJjZW50LnRleHRDb250ZW50ID0KICAgICAgICAgIGAke01hdGgucm91bmQoKHBvc2l0aW9uIC8gZmlsZURhdGEuYnl0ZUxlbmd0aCkgKiAxMDApfSUgZG9uZWA7CiAgICB9CiAgfQoKICAvLyBBbGwgZG9uZS4KICB5aWVsZCB7CiAgICByZXNwb25zZTogewogICAgICBhY3Rpb246ICdjb21wbGV0ZScsCiAgICB9CiAgfTsKfQoKc2NvcGUuZ29vZ2xlID0gc2NvcGUuZ29vZ2xlIHx8IHt9OwpzY29wZS5nb29nbGUuY29sYWIgPSBzY29wZS5nb29nbGUuY29sYWIgfHwge307CnNjb3BlLmdvb2dsZS5jb2xhYi5fZmlsZXMgPSB7CiAgX3VwbG9hZEZpbGVzLAogIF91cGxvYWRGaWxlc0NvbnRpbnVlLAp9Owp9KShzZWxmKTsK",
              "ok": true,
              "headers": [
                [
                  "content-type",
                  "application/javascript"
                ]
              ],
              "status": 200,
              "status_text": ""
            }
          },
          "base_uri": "https://localhost:8080/",
          "height": 70
        }
      },
      "source": [
        "from google.colab import files\n",
        "uploaded = files.upload()"
      ],
      "execution_count": 2,
      "outputs": [
        {
          "output_type": "display_data",
          "data": {
            "text/html": [
              "\n",
              "     <input type=\"file\" id=\"files-49eaebbf-bdfa-41a3-9f74-64a11cd1df5a\" name=\"files[]\" multiple disabled\n",
              "        style=\"border:none\" />\n",
              "     <output id=\"result-49eaebbf-bdfa-41a3-9f74-64a11cd1df5a\">\n",
              "      Upload widget is only available when the cell has been executed in the\n",
              "      current browser session. Please rerun this cell to enable.\n",
              "      </output>\n",
              "      <script src=\"/nbextensions/google.colab/files.js\"></script> "
            ],
            "text/plain": [
              "<IPython.core.display.HTML object>"
            ]
          },
          "metadata": {
            "tags": []
          }
        },
        {
          "output_type": "stream",
          "text": [
            "Saving purchase data.csv to purchase data.csv\n"
          ],
          "name": "stdout"
        }
      ]
    },
    {
      "cell_type": "code",
      "metadata": {
        "id": "UHVmoYrk5Orq"
      },
      "source": [
        "import io\n",
        "df_purchase = pd.read_csv(io.BytesIO(uploaded['purchase data.csv']))"
      ],
      "execution_count": 3,
      "outputs": []
    },
    {
      "cell_type": "markdown",
      "metadata": {
        "id": "M5_ejAGlJuU9"
      },
      "source": [
        "###Import Pickle Objects"
      ]
    },
    {
      "cell_type": "code",
      "metadata": {
        "id": "Ykmf3vOV4vpf",
        "outputId": "01d29208-38bc-4197-b594-3e1e47bde948",
        "colab": {
          "base_uri": "https://localhost:8080/"
        }
      },
      "source": [
        "# Import pickle objects\n",
        "from google.colab import drive\n",
        "drive.mount('/content/drive')\n",
        "\n",
        "import pickle\n",
        "drive.mount('/content/drive')\n",
        "DATA_PATH = \"/content/drive/My Drive/Colab Notebooks\""
      ],
      "execution_count": 4,
      "outputs": [
        {
          "output_type": "stream",
          "text": [
            "Mounted at /content/drive\n",
            "Drive already mounted at /content/drive; to attempt to forcibly remount, call drive.mount(\"/content/drive\", force_remount=True).\n"
          ],
          "name": "stdout"
        }
      ]
    },
    {
      "cell_type": "code",
      "metadata": {
        "id": "Q8piEfVo6HnC",
        "outputId": "e38ae5f9-17d2-4230-dcfa-802394a4fb66",
        "colab": {
          "base_uri": "https://localhost:8080/"
        }
      },
      "source": [
        "infile = open(DATA_PATH+'/pca.pickle','rb')\n",
        "pca = pickle.load(infile)\n",
        "\n",
        "pca"
      ],
      "execution_count": 5,
      "outputs": [
        {
          "output_type": "execute_result",
          "data": {
            "text/plain": [
              "PCA(copy=True, iterated_power='auto', n_components=3, random_state=None,\n",
              "    svd_solver='auto', tol=0.0, whiten=False)"
            ]
          },
          "metadata": {
            "tags": []
          },
          "execution_count": 5
        }
      ]
    },
    {
      "cell_type": "code",
      "metadata": {
        "id": "WrvVFsEy6NvG",
        "outputId": "ed625301-0b50-45b4-dc4d-8d76dc973509",
        "colab": {
          "base_uri": "https://localhost:8080/"
        }
      },
      "source": [
        "infile = open(DATA_PATH+'/scaler.pickle','rb')\n",
        "scaler = pickle.load(infile)\n",
        "\n",
        "scaler"
      ],
      "execution_count": 6,
      "outputs": [
        {
          "output_type": "execute_result",
          "data": {
            "text/plain": [
              "StandardScaler(copy=True, with_mean=True, with_std=True)"
            ]
          },
          "metadata": {
            "tags": []
          },
          "execution_count": 6
        }
      ]
    },
    {
      "cell_type": "code",
      "metadata": {
        "id": "70FOYQ-H6Ty8",
        "outputId": "2b476a30-d8be-4470-a595-1a50f7261755",
        "colab": {
          "base_uri": "https://localhost:8080/"
        }
      },
      "source": [
        "infile = open(DATA_PATH+'/kmeans_pca.pickle','rb')\n",
        "kmeans_pca = pickle.load(infile)\n",
        "\n",
        "kmeans_pca"
      ],
      "execution_count": 7,
      "outputs": [
        {
          "output_type": "execute_result",
          "data": {
            "text/plain": [
              "KMeans(algorithm='auto', copy_x=True, init='k-means++', max_iter=300,\n",
              "       n_clusters=4, n_init=10, n_jobs=None, precompute_distances='auto',\n",
              "       random_state=42, tol=0.0001, verbose=0)"
            ]
          },
          "metadata": {
            "tags": []
          },
          "execution_count": 7
        }
      ]
    },
    {
      "cell_type": "code",
      "metadata": {
        "id": "RkLpyDQx7GOS"
      },
      "source": [
        "# Standardize data\n",
        "features = df_purchase[['Sex', 'Marital status', 'Age', 'Education', 'Income', 'Occupation', 'Settlement size']]\n",
        "df_purchase_segm_std = scaler.transform(features)\n",
        "\n",
        "# Apply PCA\n",
        "df_purchase_segm_pca = pca.transform(df_purchase_segm_std)\n",
        "\n",
        "# Segment data\n",
        "purchase_segm_kmeans_pca = kmeans_pca.predict(df_purchase_segm_pca)\n",
        "\n",
        "# Create copy of dataframe\n",
        "df_purchase_predictors = df_purchase.copy()\n",
        "\n",
        "# Add segment labels\n",
        "df_purchase_predictors['Segment'] = purchase_segm_kmeans_pca\n",
        "segment_dummies = pd.get_dummies(purchase_segm_kmeans_pca, prefix = 'Segment', prefix_sep = '_')\n",
        "df_purchase_predictors = pd.concat([df_purchase_predictors, segment_dummies], axis = 1)\n",
        "\n",
        "df_pa = df_purchase_predictors"
      ],
      "execution_count": 8,
      "outputs": []
    },
    {
      "cell_type": "markdown",
      "metadata": {
        "id": "blPXR44Xu_Ml"
      },
      "source": [
        "###Modeling Purchase Probability"
      ]
    },
    {
      "cell_type": "markdown",
      "metadata": {
        "id": "qZvIm9YVvBq7"
      },
      "source": [
        "Now we will calculate the probability of a customer purchasing at each shop visit. Method used is Logistic Regression.\n",
        "\n",
        "First, define the dependent and independent variables.\n",
        "\n",
        "Dependent variable is whether a purchase happens or not (values are either 0 or 1).\n",
        "\n",
        "As for independent variable, common sense is that price has the most correlation to purchase. So price is the first independent variable. Here let's use the mean price (of all 5 brands) as the independent variable:"
      ]
    },
    {
      "cell_type": "code",
      "metadata": {
        "id": "DFjTuMDkgPgv"
      },
      "source": [
        "Y = df_pa['Incidence']"
      ],
      "execution_count": 13,
      "outputs": []
    },
    {
      "cell_type": "code",
      "metadata": {
        "id": "o_pLrk5foxRO"
      },
      "source": [
        "X = pd.DataFrame()\n",
        "X['Mean Price'] = (df_pa['Price_1'] +\n",
        "                   df_pa['Price_2'] +\n",
        "                   df_pa['Price_3'] +\n",
        "                   df_pa['Price_4'] +\n",
        "                   df_pa['Price_5'] ) / 5"
      ],
      "execution_count": 14,
      "outputs": []
    },
    {
      "cell_type": "markdown",
      "metadata": {
        "id": "GQoAsk6eqRa0"
      },
      "source": [
        "Now fit model to predic purchase probability:"
      ]
    },
    {
      "cell_type": "code",
      "metadata": {
        "id": "SkdXHTBBpEO0",
        "outputId": "d7faff8d-9b34-43cb-a1b8-34390a58baba",
        "colab": {
          "base_uri": "https://localhost:8080/"
        }
      },
      "source": [
        "model_purchase = LogisticRegression(solver = 'sag') # 'sag' was chosen as the solver as it's optimal for simple problem with large dataset like this one\n",
        "model_purchase.fit(X, Y)"
      ],
      "execution_count": 15,
      "outputs": [
        {
          "output_type": "execute_result",
          "data": {
            "text/plain": [
              "LogisticRegression(C=1.0, class_weight=None, dual=False, fit_intercept=True,\n",
              "                   intercept_scaling=1, l1_ratio=None, max_iter=100,\n",
              "                   multi_class='auto', n_jobs=None, penalty='l2',\n",
              "                   random_state=None, solver='sag', tol=0.0001, verbose=0,\n",
              "                   warm_start=False)"
            ]
          },
          "metadata": {
            "tags": []
          },
          "execution_count": 15
        }
      ]
    },
    {
      "cell_type": "markdown",
      "metadata": {
        "id": "56XJCAHeqqpz"
      },
      "source": [
        "Now check the exact relationship between (Mean) Price (X) and Purchase Probability (Y) using coefficient for the independent variable (coef_ attribute), which is the mean price:"
      ]
    },
    {
      "cell_type": "code",
      "metadata": {
        "id": "tTE5SIFEqY-X",
        "outputId": "d9ab9341-eedf-4529-e2d0-1b2c1d435a3f",
        "colab": {
          "base_uri": "https://localhost:8080/"
        }
      },
      "source": [
        "model_purchase.coef_"
      ],
      "execution_count": 16,
      "outputs": [
        {
          "output_type": "execute_result",
          "data": {
            "text/plain": [
              "array([[-2.34743736]])"
            ]
          },
          "metadata": {
            "tags": []
          },
          "execution_count": 16
        }
      ]
    },
    {
      "cell_type": "markdown",
      "metadata": {
        "id": "U236OogcrBy7"
      },
      "source": [
        "The coefficient for mean price = -2.35. This indicates that an increase in price will result in a decrease in purchase probability (obviously). However, this coefficient only shows the direction of the relationship (which in this case is reverse, or negative).\n",
        "\n",
        "Next, let's quantify the magnitude of the negative relationship between mean price and purchase probability."
      ]
    },
    {
      "cell_type": "markdown",
      "metadata": {
        "id": "Zh7BwN_VJ3vB"
      },
      "source": [
        "###Modeling Price Elasticity of Purchase Probability"
      ]
    },
    {
      "cell_type": "markdown",
      "metadata": {
        "id": "7nWoSBDMMwr3"
      },
      "source": [
        "The purpose of this modeling is to check the effect of various mean prices on the purchase probability. Various mean prices here can be done by generating a range of mean price values. How to determine that range?\n",
        "\n",
        "First, by checking the 5 prices (Price_1 to Price_5) to see their distributions. This checking can be done through .describe() function:"
      ]
    },
    {
      "cell_type": "code",
      "metadata": {
        "id": "Oj27clhqMkD3",
        "outputId": "43d53a00-9c00-4bb1-a6f6-7d26a7a06d85",
        "colab": {
          "base_uri": "https://localhost:8080/",
          "height": 277
        }
      },
      "source": [
        "df_pa[['Price_1', 'Price_2', 'Price_3', 'Price_4', 'Price_5']].describe()"
      ],
      "execution_count": 17,
      "outputs": [
        {
          "output_type": "execute_result",
          "data": {
            "text/html": [
              "<div>\n",
              "<style scoped>\n",
              "    .dataframe tbody tr th:only-of-type {\n",
              "        vertical-align: middle;\n",
              "    }\n",
              "\n",
              "    .dataframe tbody tr th {\n",
              "        vertical-align: top;\n",
              "    }\n",
              "\n",
              "    .dataframe thead th {\n",
              "        text-align: right;\n",
              "    }\n",
              "</style>\n",
              "<table border=\"1\" class=\"dataframe\">\n",
              "  <thead>\n",
              "    <tr style=\"text-align: right;\">\n",
              "      <th></th>\n",
              "      <th>Price_1</th>\n",
              "      <th>Price_2</th>\n",
              "      <th>Price_3</th>\n",
              "      <th>Price_4</th>\n",
              "      <th>Price_5</th>\n",
              "    </tr>\n",
              "  </thead>\n",
              "  <tbody>\n",
              "    <tr>\n",
              "      <th>count</th>\n",
              "      <td>58693.000000</td>\n",
              "      <td>58693.000000</td>\n",
              "      <td>58693.000000</td>\n",
              "      <td>58693.000000</td>\n",
              "      <td>58693.000000</td>\n",
              "    </tr>\n",
              "    <tr>\n",
              "      <th>mean</th>\n",
              "      <td>1.392074</td>\n",
              "      <td>1.780999</td>\n",
              "      <td>2.006789</td>\n",
              "      <td>2.159945</td>\n",
              "      <td>2.654798</td>\n",
              "    </tr>\n",
              "    <tr>\n",
              "      <th>std</th>\n",
              "      <td>0.091139</td>\n",
              "      <td>0.170868</td>\n",
              "      <td>0.046867</td>\n",
              "      <td>0.089825</td>\n",
              "      <td>0.098272</td>\n",
              "    </tr>\n",
              "    <tr>\n",
              "      <th>min</th>\n",
              "      <td>1.100000</td>\n",
              "      <td>1.260000</td>\n",
              "      <td>1.870000</td>\n",
              "      <td>1.760000</td>\n",
              "      <td>2.110000</td>\n",
              "    </tr>\n",
              "    <tr>\n",
              "      <th>25%</th>\n",
              "      <td>1.340000</td>\n",
              "      <td>1.580000</td>\n",
              "      <td>1.970000</td>\n",
              "      <td>2.120000</td>\n",
              "      <td>2.630000</td>\n",
              "    </tr>\n",
              "    <tr>\n",
              "      <th>50%</th>\n",
              "      <td>1.390000</td>\n",
              "      <td>1.880000</td>\n",
              "      <td>2.010000</td>\n",
              "      <td>2.170000</td>\n",
              "      <td>2.670000</td>\n",
              "    </tr>\n",
              "    <tr>\n",
              "      <th>75%</th>\n",
              "      <td>1.470000</td>\n",
              "      <td>1.890000</td>\n",
              "      <td>2.060000</td>\n",
              "      <td>2.240000</td>\n",
              "      <td>2.700000</td>\n",
              "    </tr>\n",
              "    <tr>\n",
              "      <th>max</th>\n",
              "      <td>1.590000</td>\n",
              "      <td>1.900000</td>\n",
              "      <td>2.140000</td>\n",
              "      <td>2.260000</td>\n",
              "      <td>2.800000</td>\n",
              "    </tr>\n",
              "  </tbody>\n",
              "</table>\n",
              "</div>"
            ],
            "text/plain": [
              "            Price_1       Price_2       Price_3       Price_4       Price_5\n",
              "count  58693.000000  58693.000000  58693.000000  58693.000000  58693.000000\n",
              "mean       1.392074      1.780999      2.006789      2.159945      2.654798\n",
              "std        0.091139      0.170868      0.046867      0.089825      0.098272\n",
              "min        1.100000      1.260000      1.870000      1.760000      2.110000\n",
              "25%        1.340000      1.580000      1.970000      2.120000      2.630000\n",
              "50%        1.390000      1.880000      2.010000      2.170000      2.670000\n",
              "75%        1.470000      1.890000      2.060000      2.240000      2.700000\n",
              "max        1.590000      1.900000      2.140000      2.260000      2.800000"
            ]
          },
          "metadata": {
            "tags": []
          },
          "execution_count": 17
        }
      ]
    },
    {
      "cell_type": "markdown",
      "metadata": {
        "id": "aOLqnNh8OBFD"
      },
      "source": [
        "The minimum price is 1.10 (min Price_1), while the maximum price is 2.80 (max Price_5).\n",
        "\n",
        "Then, the range of mean price we could pick is, say 0.50 to 3.50, for example. Now let's generate a range of numbers between 0.5 and 3.5, with steps = 0.01 to denote an increase in 1 cent (an increase in 1% of a dollar):"
      ]
    },
    {
      "cell_type": "code",
      "metadata": {
        "id": "aoSC8amUN-qg",
        "outputId": "f488c49a-dc69-412d-a1b8-677ad7b1ef5e",
        "colab": {
          "base_uri": "https://localhost:8080/"
        }
      },
      "source": [
        "price_range = np.arange(0.5, 3.5, 0.01)\n",
        "price_range"
      ],
      "execution_count": 18,
      "outputs": [
        {
          "output_type": "execute_result",
          "data": {
            "text/plain": [
              "array([0.5 , 0.51, 0.52, 0.53, 0.54, 0.55, 0.56, 0.57, 0.58, 0.59, 0.6 ,\n",
              "       0.61, 0.62, 0.63, 0.64, 0.65, 0.66, 0.67, 0.68, 0.69, 0.7 , 0.71,\n",
              "       0.72, 0.73, 0.74, 0.75, 0.76, 0.77, 0.78, 0.79, 0.8 , 0.81, 0.82,\n",
              "       0.83, 0.84, 0.85, 0.86, 0.87, 0.88, 0.89, 0.9 , 0.91, 0.92, 0.93,\n",
              "       0.94, 0.95, 0.96, 0.97, 0.98, 0.99, 1.  , 1.01, 1.02, 1.03, 1.04,\n",
              "       1.05, 1.06, 1.07, 1.08, 1.09, 1.1 , 1.11, 1.12, 1.13, 1.14, 1.15,\n",
              "       1.16, 1.17, 1.18, 1.19, 1.2 , 1.21, 1.22, 1.23, 1.24, 1.25, 1.26,\n",
              "       1.27, 1.28, 1.29, 1.3 , 1.31, 1.32, 1.33, 1.34, 1.35, 1.36, 1.37,\n",
              "       1.38, 1.39, 1.4 , 1.41, 1.42, 1.43, 1.44, 1.45, 1.46, 1.47, 1.48,\n",
              "       1.49, 1.5 , 1.51, 1.52, 1.53, 1.54, 1.55, 1.56, 1.57, 1.58, 1.59,\n",
              "       1.6 , 1.61, 1.62, 1.63, 1.64, 1.65, 1.66, 1.67, 1.68, 1.69, 1.7 ,\n",
              "       1.71, 1.72, 1.73, 1.74, 1.75, 1.76, 1.77, 1.78, 1.79, 1.8 , 1.81,\n",
              "       1.82, 1.83, 1.84, 1.85, 1.86, 1.87, 1.88, 1.89, 1.9 , 1.91, 1.92,\n",
              "       1.93, 1.94, 1.95, 1.96, 1.97, 1.98, 1.99, 2.  , 2.01, 2.02, 2.03,\n",
              "       2.04, 2.05, 2.06, 2.07, 2.08, 2.09, 2.1 , 2.11, 2.12, 2.13, 2.14,\n",
              "       2.15, 2.16, 2.17, 2.18, 2.19, 2.2 , 2.21, 2.22, 2.23, 2.24, 2.25,\n",
              "       2.26, 2.27, 2.28, 2.29, 2.3 , 2.31, 2.32, 2.33, 2.34, 2.35, 2.36,\n",
              "       2.37, 2.38, 2.39, 2.4 , 2.41, 2.42, 2.43, 2.44, 2.45, 2.46, 2.47,\n",
              "       2.48, 2.49, 2.5 , 2.51, 2.52, 2.53, 2.54, 2.55, 2.56, 2.57, 2.58,\n",
              "       2.59, 2.6 , 2.61, 2.62, 2.63, 2.64, 2.65, 2.66, 2.67, 2.68, 2.69,\n",
              "       2.7 , 2.71, 2.72, 2.73, 2.74, 2.75, 2.76, 2.77, 2.78, 2.79, 2.8 ,\n",
              "       2.81, 2.82, 2.83, 2.84, 2.85, 2.86, 2.87, 2.88, 2.89, 2.9 , 2.91,\n",
              "       2.92, 2.93, 2.94, 2.95, 2.96, 2.97, 2.98, 2.99, 3.  , 3.01, 3.02,\n",
              "       3.03, 3.04, 3.05, 3.06, 3.07, 3.08, 3.09, 3.1 , 3.11, 3.12, 3.13,\n",
              "       3.14, 3.15, 3.16, 3.17, 3.18, 3.19, 3.2 , 3.21, 3.22, 3.23, 3.24,\n",
              "       3.25, 3.26, 3.27, 3.28, 3.29, 3.3 , 3.31, 3.32, 3.33, 3.34, 3.35,\n",
              "       3.36, 3.37, 3.38, 3.39, 3.4 , 3.41, 3.42, 3.43, 3.44, 3.45, 3.46,\n",
              "       3.47, 3.48, 3.49])"
            ]
          },
          "metadata": {
            "tags": []
          },
          "execution_count": 18
        }
      ]
    },
    {
      "cell_type": "markdown",
      "metadata": {
        "id": "CVZsdu5nPRx5"
      },
      "source": [
        "That's 300 generated values for mean price.\n",
        "\n",
        "Now store this range in dataframe called df_price_range:"
      ]
    },
    {
      "cell_type": "code",
      "metadata": {
        "id": "FqmDPF_cPHMq"
      },
      "source": [
        "df_price_range = pd.DataFrame(price_range)"
      ],
      "execution_count": 19,
      "outputs": []
    },
    {
      "cell_type": "markdown",
      "metadata": {
        "id": "OC-P-L9vqvlA"
      },
      "source": [
        "Predict the purchase probability for each mean price (each of the generated prices above):"
      ]
    },
    {
      "cell_type": "code",
      "metadata": {
        "id": "aRrGohd0PbLC",
        "outputId": "2ca2adf3-8c4b-453d-f43b-6a5851f41c92",
        "colab": {
          "base_uri": "https://localhost:8080/"
        }
      },
      "source": [
        "Y_pr = model_purchase.predict_proba(df_price_range)\n",
        "Y_pr"
      ],
      "execution_count": 20,
      "outputs": [
        {
          "output_type": "execute_result",
          "data": {
            "text/plain": [
              "array([[0.0800837 , 0.9199163 ],\n",
              "       [0.0818302 , 0.9181698 ],\n",
              "       [0.08361133, 0.91638867],\n",
              "       [0.08542761, 0.91457239],\n",
              "       [0.0872796 , 0.9127204 ],\n",
              "       [0.08916782, 0.91083218],\n",
              "       [0.09109281, 0.90890719],\n",
              "       [0.09305511, 0.90694489],\n",
              "       [0.09505527, 0.90494473],\n",
              "       [0.09709381, 0.90290619],\n",
              "       [0.09917129, 0.90082871],\n",
              "       [0.10128822, 0.89871178],\n",
              "       [0.10344516, 0.89655484],\n",
              "       [0.10564263, 0.89435737],\n",
              "       [0.10788116, 0.89211884],\n",
              "       [0.11016128, 0.88983872],\n",
              "       [0.11248352, 0.88751648],\n",
              "       [0.11484839, 0.88515161],\n",
              "       [0.11725642, 0.88274358],\n",
              "       [0.1197081 , 0.8802919 ],\n",
              "       [0.12220395, 0.87779605],\n",
              "       [0.12474447, 0.87525553],\n",
              "       [0.12733013, 0.87266987],\n",
              "       [0.12996144, 0.87003856],\n",
              "       [0.13263885, 0.86736115],\n",
              "       [0.13536285, 0.86463715],\n",
              "       [0.13813387, 0.86186613],\n",
              "       [0.14095238, 0.85904762],\n",
              "       [0.1438188 , 0.8561812 ],\n",
              "       [0.14673355, 0.85326645],\n",
              "       [0.14969705, 0.85030295],\n",
              "       [0.15270968, 0.84729032],\n",
              "       [0.15577184, 0.84422816],\n",
              "       [0.15888389, 0.84111611],\n",
              "       [0.16204618, 0.83795382],\n",
              "       [0.16525904, 0.83474096],\n",
              "       [0.16852279, 0.83147721],\n",
              "       [0.17183773, 0.82816227],\n",
              "       [0.17520413, 0.82479587],\n",
              "       [0.17862226, 0.82137774],\n",
              "       [0.18209236, 0.81790764],\n",
              "       [0.18561463, 0.81438537],\n",
              "       [0.18918928, 0.81081072],\n",
              "       [0.19281647, 0.80718353],\n",
              "       [0.19649634, 0.80350366],\n",
              "       [0.20022903, 0.79977097],\n",
              "       [0.20401462, 0.79598538],\n",
              "       [0.20785318, 0.79214682],\n",
              "       [0.21174475, 0.78825525],\n",
              "       [0.21568934, 0.78431066],\n",
              "       [0.21968694, 0.78031306],\n",
              "       [0.22373749, 0.77626251],\n",
              "       [0.22784092, 0.77215908],\n",
              "       [0.23199711, 0.76800289],\n",
              "       [0.23620593, 0.76379407],\n",
              "       [0.2404672 , 0.7595328 ],\n",
              "       [0.2447807 , 0.7552193 ],\n",
              "       [0.2491462 , 0.7508538 ],\n",
              "       [0.25356342, 0.74643658],\n",
              "       [0.25803204, 0.74196796],\n",
              "       [0.26255171, 0.73744829],\n",
              "       [0.26712204, 0.73287796],\n",
              "       [0.27174261, 0.72825739],\n",
              "       [0.27641297, 0.72358703],\n",
              "       [0.28113261, 0.71886739],\n",
              "       [0.28590099, 0.71409901],\n",
              "       [0.29071754, 0.70928246],\n",
              "       [0.29558165, 0.70441835],\n",
              "       [0.30049266, 0.69950734],\n",
              "       [0.30544989, 0.69455011],\n",
              "       [0.3104526 , 0.6895474 ],\n",
              "       [0.31550003, 0.68449997],\n",
              "       [0.32059137, 0.67940863],\n",
              "       [0.32572577, 0.67427423],\n",
              "       [0.33090235, 0.66909765],\n",
              "       [0.33612019, 0.66387981],\n",
              "       [0.34137832, 0.65862168],\n",
              "       [0.34667576, 0.65332424],\n",
              "       [0.35201147, 0.64798853],\n",
              "       [0.35738438, 0.64261562],\n",
              "       [0.36279339, 0.63720661],\n",
              "       [0.36823734, 0.63176266],\n",
              "       [0.37371508, 0.62628492],\n",
              "       [0.37922539, 0.62077461],\n",
              "       [0.38476703, 0.61523297],\n",
              "       [0.39033873, 0.60966127],\n",
              "       [0.39593919, 0.60406081],\n",
              "       [0.40156708, 0.59843292],\n",
              "       [0.40722103, 0.59277897],\n",
              "       [0.41289967, 0.58710033],\n",
              "       [0.41860157, 0.58139843],\n",
              "       [0.4243253 , 0.5756747 ],\n",
              "       [0.4300694 , 0.5699306 ],\n",
              "       [0.4358324 , 0.5641676 ],\n",
              "       [0.44161278, 0.55838722],\n",
              "       [0.44740902, 0.55259098],\n",
              "       [0.4532196 , 0.5467804 ],\n",
              "       [0.45904295, 0.54095705],\n",
              "       [0.4648775 , 0.5351225 ],\n",
              "       [0.47072169, 0.52927831],\n",
              "       [0.47657391, 0.52342609],\n",
              "       [0.48243258, 0.51756742],\n",
              "       [0.48829608, 0.51170392],\n",
              "       [0.4941628 , 0.5058372 ],\n",
              "       [0.50003112, 0.49996888],\n",
              "       [0.50589944, 0.49410056],\n",
              "       [0.51176614, 0.48823386],\n",
              "       [0.51762959, 0.48237041],\n",
              "       [0.5234882 , 0.4765118 ],\n",
              "       [0.52934034, 0.47065966],\n",
              "       [0.53518444, 0.46481556],\n",
              "       [0.54101888, 0.45898112],\n",
              "       [0.5468421 , 0.4531579 ],\n",
              "       [0.55265253, 0.44734747],\n",
              "       [0.55844862, 0.44155138],\n",
              "       [0.56422882, 0.43577118],\n",
              "       [0.56999162, 0.43000838],\n",
              "       [0.57573552, 0.42426448],\n",
              "       [0.58145903, 0.41854097],\n",
              "       [0.58716069, 0.41283931],\n",
              "       [0.59283907, 0.40716093],\n",
              "       [0.59849276, 0.40150724],\n",
              "       [0.60412036, 0.39587964],\n",
              "       [0.60972052, 0.39027948],\n",
              "       [0.61529191, 0.38470809],\n",
              "       [0.62083322, 0.37916678],\n",
              "       [0.62634319, 0.37365681],\n",
              "       [0.63182058, 0.36817942],\n",
              "       [0.63726417, 0.36273583],\n",
              "       [0.6426728 , 0.3573272 ],\n",
              "       [0.64804532, 0.35195468],\n",
              "       [0.65338063, 0.34661937],\n",
              "       [0.65867766, 0.34132234],\n",
              "       [0.66393537, 0.33606463],\n",
              "       [0.66915278, 0.33084722],\n",
              "       [0.67432892, 0.32567108],\n",
              "       [0.67946287, 0.32053713],\n",
              "       [0.68455374, 0.31544626],\n",
              "       [0.6896007 , 0.3103993 ],\n",
              "       [0.69460293, 0.30539707],\n",
              "       [0.69955967, 0.30044033],\n",
              "       [0.70447019, 0.29552981],\n",
              "       [0.7093338 , 0.2906662 ],\n",
              "       [0.71414984, 0.28585016],\n",
              "       [0.71891771, 0.28108229],\n",
              "       [0.72363683, 0.27636317],\n",
              "       [0.72830666, 0.27169334],\n",
              "       [0.7329267 , 0.2670733 ],\n",
              "       [0.7374965 , 0.2625035 ],\n",
              "       [0.74201563, 0.25798437],\n",
              "       [0.7464837 , 0.2535163 ],\n",
              "       [0.75090037, 0.24909963],\n",
              "       [0.75526532, 0.24473468],\n",
              "       [0.75957827, 0.24042173],\n",
              "       [0.76383898, 0.23616102],\n",
              "       [0.76804725, 0.23195275],\n",
              "       [0.77220288, 0.22779712],\n",
              "       [0.77630575, 0.22369425],\n",
              "       [0.78035574, 0.21964426],\n",
              "       [0.78435278, 0.21564722],\n",
              "       [0.78829681, 0.21170319],\n",
              "       [0.79218781, 0.20781219],\n",
              "       [0.79602581, 0.20397419],\n",
              "       [0.79981084, 0.20018916],\n",
              "       [0.80354297, 0.19645703],\n",
              "       [0.80722228, 0.19277772],\n",
              "       [0.81084891, 0.18915109],\n",
              "       [0.814423  , 0.185577  ],\n",
              "       [0.81794472, 0.18205528],\n",
              "       [0.82141427, 0.17858573],\n",
              "       [0.82483185, 0.17516815],\n",
              "       [0.8281977 , 0.1718023 ],\n",
              "       [0.8315121 , 0.1684879 ],\n",
              "       [0.83477531, 0.16522469],\n",
              "       [0.83798763, 0.16201237],\n",
              "       [0.84114938, 0.15885062],\n",
              "       [0.8442609 , 0.1557391 ],\n",
              "       [0.84732253, 0.15267747],\n",
              "       [0.85033465, 0.14966535],\n",
              "       [0.85329762, 0.14670238],\n",
              "       [0.85621186, 0.14378814],\n",
              "       [0.85907777, 0.14092223],\n",
              "       [0.86189577, 0.13810423],\n",
              "       [0.86466629, 0.13533371],\n",
              "       [0.86738979, 0.13261021],\n",
              "       [0.87006671, 0.12993329],\n",
              "       [0.87269753, 0.12730247],\n",
              "       [0.87528272, 0.12471728],\n",
              "       [0.87782275, 0.12217725],\n",
              "       [0.88031813, 0.11968187],\n",
              "       [0.88276935, 0.11723065],\n",
              "       [0.88517692, 0.11482308],\n",
              "       [0.88754134, 0.11245866],\n",
              "       [0.88986312, 0.11013688],\n",
              "       [0.8921428 , 0.1078572 ],\n",
              "       [0.8943809 , 0.1056191 ],\n",
              "       [0.89657793, 0.10342207],\n",
              "       [0.89873444, 0.10126556],\n",
              "       [0.90085096, 0.09914904],\n",
              "       [0.90292801, 0.09707199],\n",
              "       [0.90496615, 0.09503385],\n",
              "       [0.9069659 , 0.0930341 ],\n",
              "       [0.9089278 , 0.0910722 ],\n",
              "       [0.9108524 , 0.0891476 ],\n",
              "       [0.91274024, 0.08725976],\n",
              "       [0.91459184, 0.08540816],\n",
              "       [0.91640775, 0.08359225],\n",
              "       [0.91818851, 0.08181149],\n",
              "       [0.91993464, 0.08006536],\n",
              "       [0.92164669, 0.07835331],\n",
              "       [0.92332518, 0.07667482],\n",
              "       [0.92497064, 0.07502936],\n",
              "       [0.92658359, 0.07341641],\n",
              "       [0.92816457, 0.07183543],\n",
              "       [0.92971408, 0.07028592],\n",
              "       [0.93123264, 0.06876736],\n",
              "       [0.93272077, 0.06727923],\n",
              "       [0.93417897, 0.06582103],\n",
              "       [0.93560775, 0.06439225],\n",
              "       [0.93700761, 0.06299239],\n",
              "       [0.93837904, 0.06162096],\n",
              "       [0.93972253, 0.06027747],\n",
              "       [0.94103857, 0.05896143],\n",
              "       [0.94232764, 0.05767236],\n",
              "       [0.94359021, 0.05640979],\n",
              "       [0.94482677, 0.05517323],\n",
              "       [0.94603777, 0.05396223],\n",
              "       [0.94722367, 0.05277633],\n",
              "       [0.94838493, 0.05161507],\n",
              "       [0.949522  , 0.050478  ],\n",
              "       [0.95063533, 0.04936467],\n",
              "       [0.95172535, 0.04827465],\n",
              "       [0.9527925 , 0.0472075 ],\n",
              "       [0.9538372 , 0.0461628 ],\n",
              "       [0.95485987, 0.04514013],\n",
              "       [0.95586094, 0.04413906],\n",
              "       [0.95684082, 0.04315918],\n",
              "       [0.9577999 , 0.0422001 ],\n",
              "       [0.95873858, 0.04126142],\n",
              "       [0.95965727, 0.04034273],\n",
              "       [0.96055634, 0.03944366],\n",
              "       [0.96143618, 0.03856382],\n",
              "       [0.96229717, 0.03770283],\n",
              "       [0.96313967, 0.03686033],\n",
              "       [0.96396404, 0.03603596],\n",
              "       [0.96477066, 0.03522934],\n",
              "       [0.96555987, 0.03444013],\n",
              "       [0.96633201, 0.03366799],\n",
              "       [0.96708743, 0.03291257],\n",
              "       [0.96782647, 0.03217353],\n",
              "       [0.96854945, 0.03145055],\n",
              "       [0.9692567 , 0.0307433 ],\n",
              "       [0.96994854, 0.03005146],\n",
              "       [0.97062528, 0.02937472],\n",
              "       [0.97128724, 0.02871276],\n",
              "       [0.97193471, 0.02806529],\n",
              "       [0.97256799, 0.02743201],\n",
              "       [0.97318737, 0.02681263],\n",
              "       [0.97379315, 0.02620685],\n",
              "       [0.9743856 , 0.0256144 ],\n",
              "       [0.974965  , 0.025035  ],\n",
              "       [0.97553163, 0.02446837],\n",
              "       [0.97608574, 0.02391426],\n",
              "       [0.97662761, 0.02337239],\n",
              "       [0.97715748, 0.02284252],\n",
              "       [0.97767562, 0.02232438],\n",
              "       [0.97818227, 0.02181773],\n",
              "       [0.97867767, 0.02132233],\n",
              "       [0.97916206, 0.02083794],\n",
              "       [0.97963567, 0.02036433],\n",
              "       [0.98009874, 0.01990126],\n",
              "       [0.98055149, 0.01944851],\n",
              "       [0.98099414, 0.01900586],\n",
              "       [0.98142691, 0.01857309],\n",
              "       [0.98185   , 0.01815   ],\n",
              "       [0.98226363, 0.01773637],\n",
              "       [0.982668  , 0.017332  ],\n",
              "       [0.98306331, 0.01693669],\n",
              "       [0.98344975, 0.01655025],\n",
              "       [0.98382752, 0.01617248],\n",
              "       [0.98419681, 0.01580319],\n",
              "       [0.9845578 , 0.0154422 ],\n",
              "       [0.98491067, 0.01508933],\n",
              "       [0.98525559, 0.01474441],\n",
              "       [0.98559275, 0.01440725],\n",
              "       [0.98592231, 0.01407769],\n",
              "       [0.98624443, 0.01375557],\n",
              "       [0.98655928, 0.01344072],\n",
              "       [0.98686703, 0.01313297],\n",
              "       [0.98716782, 0.01283218],\n",
              "       [0.9874618 , 0.0125382 ],\n",
              "       [0.98774914, 0.01225086],\n",
              "       [0.98802997, 0.01197003],\n",
              "       [0.98830444, 0.01169556],\n",
              "       [0.98857268, 0.01142732],\n",
              "       [0.98883485, 0.01116515],\n",
              "       [0.98909106, 0.01090894],\n",
              "       [0.98934147, 0.01065853],\n",
              "       [0.98958618, 0.01041382],\n",
              "       [0.98982533, 0.01017467]])"
            ]
          },
          "metadata": {
            "tags": []
          },
          "execution_count": 20
        }
      ]
    },
    {
      "cell_type": "markdown",
      "metadata": {
        "id": "WYXf0BMgrXQe"
      },
      "source": [
        "That's an array with 300 rows (corresponding to 300 generated values for mean price), and 2 columns: the first column indicates the probability of no purchase, the second column the probability of purchase.\n",
        "\n",
        "Let's store it in a variable called purchase_pr:"
      ]
    },
    {
      "cell_type": "code",
      "metadata": {
        "id": "faFHX2BarKp2"
      },
      "source": [
        "purchase_pr = Y_pr[:][:, 1]"
      ],
      "execution_count": 24,
      "outputs": []
    },
    {
      "cell_type": "code",
      "metadata": {
        "id": "Jy6immnuuA3l"
      },
      "source": [
        ""
      ],
      "execution_count": null,
      "outputs": []
    }
  ]
}