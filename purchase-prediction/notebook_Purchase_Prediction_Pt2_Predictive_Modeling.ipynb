{
  "nbformat": 4,
  "nbformat_minor": 0,
  "metadata": {
    "colab": {
      "name": "[Udemy CAiP] Purchase Prediction Pt2 - Predictive Modeling.ipynb",
      "provenance": [],
      "authorship_tag": "ABX9TyOj4iqvgcx0qaan/ealWISp",
      "include_colab_link": true
    },
    "kernelspec": {
      "name": "python3",
      "display_name": "Python 3"
    }
  },
  "cells": [
    {
      "cell_type": "markdown",
      "metadata": {
        "id": "view-in-github",
        "colab_type": "text"
      },
      "source": [
        "<a href=\"https://colab.research.google.com/github/mihnguyen/udemy-customer-analytics/blob/main/purchase-prediction/notebook_Purchase_Prediction_Pt2_Predictive_Modeling.ipynb\" target=\"_parent\"><img src=\"https://colab.research.google.com/assets/colab-badge.svg\" alt=\"Open In Colab\"/></a>"
      ]
    },
    {
      "cell_type": "markdown",
      "metadata": {
        "id": "TlBdQGLyvGZK"
      },
      "source": [
        "This notebook is part 2 and a continuation of the [[Udemy CAiP] Purchase Prediction Pt1 - Descriptive Analysis notebook](https://colab.research.google.com/drive/1Acmi4BOuO1V7LCxbnMCVzu46vFSpftA6#scrollTo=97I0svM77BjK&uniqifier=1).\n",
        "While part 1 is descriptive analysis, part 2 will concern predictive modeling."
      ]
    },
    {
      "cell_type": "markdown",
      "metadata": {
        "id": "gs4FJpZB4SpO"
      },
      "source": [
        "###Import Libraries"
      ]
    },
    {
      "cell_type": "code",
      "metadata": {
        "id": "YMXfBrP_u7_5"
      },
      "source": [
        "import numpy as np\n",
        "import pandas as pd\n",
        "\n",
        "from sklearn.preprocessing import StandardScaler\n",
        "from sklearn.decomposition import PCA\n",
        "from sklearn.cluster import KMeans\n",
        "\n",
        "import pickle\n",
        "\n",
        "from sklearn.linear_model import LogisticRegression"
      ],
      "execution_count": 1,
      "outputs": []
    },
    {
      "cell_type": "markdown",
      "metadata": {
        "id": "dWU4e--N4ZTt"
      },
      "source": [
        "###Import Purchase Data"
      ]
    },
    {
      "cell_type": "code",
      "metadata": {
        "id": "gz7E4GVf4dEj",
        "outputId": "cfd2392b-c12a-40b2-f9d1-7be074e42277",
        "colab": {
          "resources": {
            "http://localhost:8080/nbextensions/google.colab/files.js": {
              "data": "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",
              "ok": true,
              "headers": [
                [
                  "content-type",
                  "application/javascript"
                ]
              ],
              "status": 200,
              "status_text": ""
            }
          },
          "base_uri": "https://localhost:8080/",
          "height": 70
        }
      },
      "source": [
        "from google.colab import files\n",
        "uploaded = files.upload()"
      ],
      "execution_count": 2,
      "outputs": [
        {
          "output_type": "display_data",
          "data": {
            "text/html": [
              "\n",
              "     <input type=\"file\" id=\"files-78dadf8e-ca0c-444f-875f-baa4177525da\" name=\"files[]\" multiple disabled\n",
              "        style=\"border:none\" />\n",
              "     <output id=\"result-78dadf8e-ca0c-444f-875f-baa4177525da\">\n",
              "      Upload widget is only available when the cell has been executed in the\n",
              "      current browser session. Please rerun this cell to enable.\n",
              "      </output>\n",
              "      <script src=\"/nbextensions/google.colab/files.js\"></script> "
            ],
            "text/plain": [
              "<IPython.core.display.HTML object>"
            ]
          },
          "metadata": {
            "tags": []
          }
        },
        {
          "output_type": "stream",
          "text": [
            "Saving purchase data.csv to purchase data.csv\n"
          ],
          "name": "stdout"
        }
      ]
    },
    {
      "cell_type": "code",
      "metadata": {
        "id": "UHVmoYrk5Orq"
      },
      "source": [
        "import io\n",
        "df_purchase = pd.read_csv(io.BytesIO(uploaded['purchase data.csv']))"
      ],
      "execution_count": 3,
      "outputs": []
    },
    {
      "cell_type": "markdown",
      "metadata": {
        "id": "M5_ejAGlJuU9"
      },
      "source": [
        "###Import Pickle Objects"
      ]
    },
    {
      "cell_type": "code",
      "metadata": {
        "id": "Ykmf3vOV4vpf",
        "outputId": "561cf877-4eb0-4d38-c2ab-8d59bf78d322",
        "colab": {
          "base_uri": "https://localhost:8080/"
        }
      },
      "source": [
        "# Import pickle objects\n",
        "from google.colab import drive\n",
        "drive.mount('/content/drive')\n",
        "\n",
        "import pickle\n",
        "drive.mount('/content/drive')\n",
        "DATA_PATH = \"/content/drive/My Drive/Colab Notebooks\""
      ],
      "execution_count": 4,
      "outputs": [
        {
          "output_type": "stream",
          "text": [
            "Mounted at /content/drive\n",
            "Drive already mounted at /content/drive; to attempt to forcibly remount, call drive.mount(\"/content/drive\", force_remount=True).\n"
          ],
          "name": "stdout"
        }
      ]
    },
    {
      "cell_type": "code",
      "metadata": {
        "id": "Q8piEfVo6HnC",
        "outputId": "2912985b-f9cc-409c-abf2-e5940778191f",
        "colab": {
          "base_uri": "https://localhost:8080/"
        }
      },
      "source": [
        "infile = open(DATA_PATH+'/pca.pickle','rb')\n",
        "pca = pickle.load(infile)\n",
        "\n",
        "pca"
      ],
      "execution_count": 5,
      "outputs": [
        {
          "output_type": "execute_result",
          "data": {
            "text/plain": [
              "PCA(copy=True, iterated_power='auto', n_components=3, random_state=None,\n",
              "    svd_solver='auto', tol=0.0, whiten=False)"
            ]
          },
          "metadata": {
            "tags": []
          },
          "execution_count": 5
        }
      ]
    },
    {
      "cell_type": "code",
      "metadata": {
        "id": "WrvVFsEy6NvG",
        "outputId": "ef99b784-4914-4994-b1dd-0c61972c252d",
        "colab": {
          "base_uri": "https://localhost:8080/"
        }
      },
      "source": [
        "infile = open(DATA_PATH+'/scaler.pickle','rb')\n",
        "scaler = pickle.load(infile)\n",
        "\n",
        "scaler"
      ],
      "execution_count": 6,
      "outputs": [
        {
          "output_type": "execute_result",
          "data": {
            "text/plain": [
              "StandardScaler(copy=True, with_mean=True, with_std=True)"
            ]
          },
          "metadata": {
            "tags": []
          },
          "execution_count": 6
        }
      ]
    },
    {
      "cell_type": "code",
      "metadata": {
        "id": "70FOYQ-H6Ty8",
        "outputId": "037f1c3b-1b8b-4c54-c4ee-f765f07dfb00",
        "colab": {
          "base_uri": "https://localhost:8080/"
        }
      },
      "source": [
        "infile = open(DATA_PATH+'/kmeans_pca.pickle','rb')\n",
        "kmeans_pca = pickle.load(infile)\n",
        "\n",
        "kmeans_pca"
      ],
      "execution_count": 7,
      "outputs": [
        {
          "output_type": "execute_result",
          "data": {
            "text/plain": [
              "KMeans(algorithm='auto', copy_x=True, init='k-means++', max_iter=300,\n",
              "       n_clusters=4, n_init=10, n_jobs=None, precompute_distances='auto',\n",
              "       random_state=42, tol=0.0001, verbose=0)"
            ]
          },
          "metadata": {
            "tags": []
          },
          "execution_count": 7
        }
      ]
    },
    {
      "cell_type": "code",
      "metadata": {
        "id": "RkLpyDQx7GOS"
      },
      "source": [
        "# Standardize data\n",
        "features = df_purchase[['Sex', 'Marital status', 'Age', 'Education', 'Income', 'Occupation', 'Settlement size']]\n",
        "df_purchase_segm_std = scaler.transform(features)\n",
        "\n",
        "# Apply PCA\n",
        "df_purchase_segm_pca = pca.transform(df_purchase_segm_std)\n",
        "\n",
        "# Segment data\n",
        "purchase_segm_kmeans_pca = kmeans_pca.predict(df_purchase_segm_pca)\n",
        "\n",
        "# Create copy of dataframe\n",
        "df_purchase_predictors = df_purchase.copy()\n",
        "\n",
        "# Add segment labels\n",
        "df_purchase_predictors['Segment'] = purchase_segm_kmeans_pca\n",
        "segment_dummies = pd.get_dummies(purchase_segm_kmeans_pca, prefix = 'Segment', prefix_sep = '_')\n",
        "df_purchase_predictors = pd.concat([df_purchase_predictors, segment_dummies], axis = 1)\n",
        "\n",
        "df_pa = df_purchase_predictors"
      ],
      "execution_count": 8,
      "outputs": []
    },
    {
      "cell_type": "markdown",
      "metadata": {
        "id": "blPXR44Xu_Ml"
      },
      "source": [
        "###Modeling Purchase Probability"
      ]
    },
    {
      "cell_type": "markdown",
      "metadata": {
        "id": "qZvIm9YVvBq7"
      },
      "source": [
        "Now we will calculate the probability of a customer purchasing at each shop visit. Method used is Logistic Regression.\n",
        "\n",
        "First, define the dependent and independent variables.\n",
        "\n",
        "Dependent variable is whether a purchase happens or not (values are either 0 or 1).\n",
        "\n",
        "As for independent variable, common sense is that price has the most correlation to purchase. So price is the first independent variable. Here let's use the mean price (of all 5 brands) as the independent variable:"
      ]
    },
    {
      "cell_type": "code",
      "metadata": {
        "id": "DFjTuMDkgPgv"
      },
      "source": [
        "Y = df_pa['Incidence']"
      ],
      "execution_count": 9,
      "outputs": []
    },
    {
      "cell_type": "code",
      "metadata": {
        "id": "o_pLrk5foxRO"
      },
      "source": [
        "X = pd.DataFrame()\n",
        "X['Mean Price'] = (df_pa['Price_1'] +\n",
        "                   df_pa['Price_2'] +\n",
        "                   df_pa['Price_3'] +\n",
        "                   df_pa['Price_4'] +\n",
        "                   df_pa['Price_5'] ) / 5"
      ],
      "execution_count": 10,
      "outputs": []
    },
    {
      "cell_type": "markdown",
      "metadata": {
        "id": "GQoAsk6eqRa0"
      },
      "source": [
        "Now fit model to predic purchase probability:"
      ]
    },
    {
      "cell_type": "code",
      "metadata": {
        "id": "SkdXHTBBpEO0",
        "outputId": "37963d01-11a2-4b97-a0d1-bba567227f5e",
        "colab": {
          "base_uri": "https://localhost:8080/"
        }
      },
      "source": [
        "model_purchase = LogisticRegression(solver = 'sag') # 'sag' was chosen as the solver as it's optimal for simple problem with large dataset like this one\n",
        "model_purchase.fit(X, Y)"
      ],
      "execution_count": 11,
      "outputs": [
        {
          "output_type": "execute_result",
          "data": {
            "text/plain": [
              "LogisticRegression(C=1.0, class_weight=None, dual=False, fit_intercept=True,\n",
              "                   intercept_scaling=1, l1_ratio=None, max_iter=100,\n",
              "                   multi_class='auto', n_jobs=None, penalty='l2',\n",
              "                   random_state=None, solver='sag', tol=0.0001, verbose=0,\n",
              "                   warm_start=False)"
            ]
          },
          "metadata": {
            "tags": []
          },
          "execution_count": 11
        }
      ]
    },
    {
      "cell_type": "markdown",
      "metadata": {
        "id": "56XJCAHeqqpz"
      },
      "source": [
        "Now check the exact relationship between (Mean) Price (X) and Purchase Probability (Y) using coefficient for the independent variable (coef_ attribute), which is the mean price:"
      ]
    },
    {
      "cell_type": "code",
      "metadata": {
        "id": "tTE5SIFEqY-X",
        "outputId": "1f3f579b-65d1-4cfe-c00b-628220dcfb33",
        "colab": {
          "base_uri": "https://localhost:8080/"
        }
      },
      "source": [
        "model_purchase.coef_"
      ],
      "execution_count": 12,
      "outputs": [
        {
          "output_type": "execute_result",
          "data": {
            "text/plain": [
              "array([[-2.3481699]])"
            ]
          },
          "metadata": {
            "tags": []
          },
          "execution_count": 12
        }
      ]
    },
    {
      "cell_type": "markdown",
      "metadata": {
        "id": "U236OogcrBy7"
      },
      "source": [
        "The coefficient for mean price = -2.35. This indicates that an increase in price will result in a decrease in purchase probability (obviously). However, this coefficient only shows the direction of the relationship (which in this case is reverse, or negative).\n",
        "\n",
        "Next, let's quantify the magnitude of the negative relationship between mean price and purchase probability."
      ]
    },
    {
      "cell_type": "code",
      "metadata": {
        "id": "DG-SvMCjq4uZ"
      },
      "source": [
        ""
      ],
      "execution_count": 12,
      "outputs": []
    },
    {
      "cell_type": "markdown",
      "metadata": {
        "id": "Zh7BwN_VJ3vB"
      },
      "source": [
        "###Modeling Price Elasticity of Purchase Probability"
      ]
    },
    {
      "cell_type": "markdown",
      "metadata": {
        "id": "7nWoSBDMMwr3"
      },
      "source": [
        "The purpose of this modeling is to check the effect of various mean prices on the purchase probability. Various mean prices here can be done by generating a range of mean price values. How to determine that range?\n",
        "\n",
        "First, by checking the 5 prices (Price_1 to Price_5) to see their distributions. This checking can be done through .describe() function:"
      ]
    },
    {
      "cell_type": "code",
      "metadata": {
        "id": "Oj27clhqMkD3",
        "outputId": "6e3564cf-564d-4470-cff3-2437a9a9e3b1",
        "colab": {
          "base_uri": "https://localhost:8080/",
          "height": 277
        }
      },
      "source": [
        "df_pa[['Price_1', 'Price_2', 'Price_3', 'Price_4', 'Price_5']].describe()"
      ],
      "execution_count": 13,
      "outputs": [
        {
          "output_type": "execute_result",
          "data": {
            "text/html": [
              "<div>\n",
              "<style scoped>\n",
              "    .dataframe tbody tr th:only-of-type {\n",
              "        vertical-align: middle;\n",
              "    }\n",
              "\n",
              "    .dataframe tbody tr th {\n",
              "        vertical-align: top;\n",
              "    }\n",
              "\n",
              "    .dataframe thead th {\n",
              "        text-align: right;\n",
              "    }\n",
              "</style>\n",
              "<table border=\"1\" class=\"dataframe\">\n",
              "  <thead>\n",
              "    <tr style=\"text-align: right;\">\n",
              "      <th></th>\n",
              "      <th>Price_1</th>\n",
              "      <th>Price_2</th>\n",
              "      <th>Price_3</th>\n",
              "      <th>Price_4</th>\n",
              "      <th>Price_5</th>\n",
              "    </tr>\n",
              "  </thead>\n",
              "  <tbody>\n",
              "    <tr>\n",
              "      <th>count</th>\n",
              "      <td>58693.000000</td>\n",
              "      <td>58693.000000</td>\n",
              "      <td>58693.000000</td>\n",
              "      <td>58693.000000</td>\n",
              "      <td>58693.000000</td>\n",
              "    </tr>\n",
              "    <tr>\n",
              "      <th>mean</th>\n",
              "      <td>1.392074</td>\n",
              "      <td>1.780999</td>\n",
              "      <td>2.006789</td>\n",
              "      <td>2.159945</td>\n",
              "      <td>2.654798</td>\n",
              "    </tr>\n",
              "    <tr>\n",
              "      <th>std</th>\n",
              "      <td>0.091139</td>\n",
              "      <td>0.170868</td>\n",
              "      <td>0.046867</td>\n",
              "      <td>0.089825</td>\n",
              "      <td>0.098272</td>\n",
              "    </tr>\n",
              "    <tr>\n",
              "      <th>min</th>\n",
              "      <td>1.100000</td>\n",
              "      <td>1.260000</td>\n",
              "      <td>1.870000</td>\n",
              "      <td>1.760000</td>\n",
              "      <td>2.110000</td>\n",
              "    </tr>\n",
              "    <tr>\n",
              "      <th>25%</th>\n",
              "      <td>1.340000</td>\n",
              "      <td>1.580000</td>\n",
              "      <td>1.970000</td>\n",
              "      <td>2.120000</td>\n",
              "      <td>2.630000</td>\n",
              "    </tr>\n",
              "    <tr>\n",
              "      <th>50%</th>\n",
              "      <td>1.390000</td>\n",
              "      <td>1.880000</td>\n",
              "      <td>2.010000</td>\n",
              "      <td>2.170000</td>\n",
              "      <td>2.670000</td>\n",
              "    </tr>\n",
              "    <tr>\n",
              "      <th>75%</th>\n",
              "      <td>1.470000</td>\n",
              "      <td>1.890000</td>\n",
              "      <td>2.060000</td>\n",
              "      <td>2.240000</td>\n",
              "      <td>2.700000</td>\n",
              "    </tr>\n",
              "    <tr>\n",
              "      <th>max</th>\n",
              "      <td>1.590000</td>\n",
              "      <td>1.900000</td>\n",
              "      <td>2.140000</td>\n",
              "      <td>2.260000</td>\n",
              "      <td>2.800000</td>\n",
              "    </tr>\n",
              "  </tbody>\n",
              "</table>\n",
              "</div>"
            ],
            "text/plain": [
              "            Price_1       Price_2       Price_3       Price_4       Price_5\n",
              "count  58693.000000  58693.000000  58693.000000  58693.000000  58693.000000\n",
              "mean       1.392074      1.780999      2.006789      2.159945      2.654798\n",
              "std        0.091139      0.170868      0.046867      0.089825      0.098272\n",
              "min        1.100000      1.260000      1.870000      1.760000      2.110000\n",
              "25%        1.340000      1.580000      1.970000      2.120000      2.630000\n",
              "50%        1.390000      1.880000      2.010000      2.170000      2.670000\n",
              "75%        1.470000      1.890000      2.060000      2.240000      2.700000\n",
              "max        1.590000      1.900000      2.140000      2.260000      2.800000"
            ]
          },
          "metadata": {
            "tags": []
          },
          "execution_count": 13
        }
      ]
    },
    {
      "cell_type": "markdown",
      "metadata": {
        "id": "aOLqnNh8OBFD"
      },
      "source": [
        "The minimum price is 1.10 (min Price_1), while the maximum price is 2.80 (max Price_5).\n",
        "\n",
        "Then, the range of mean price we could pick is, say 0.50 to 3.50, for example. Now let's generate a range of numbers between 0.5 and 3.5, with steps = 0.01 to denote an increase in 1 cent (an increase in 1% of a dollar):"
      ]
    },
    {
      "cell_type": "code",
      "metadata": {
        "id": "aoSC8amUN-qg",
        "outputId": "91f2d672-45fd-4ea8-f998-c8ad084da52a",
        "colab": {
          "base_uri": "https://localhost:8080/"
        }
      },
      "source": [
        "price_range = np.arange(0.5, 3.5, 0.01)\n",
        "price_range"
      ],
      "execution_count": 14,
      "outputs": [
        {
          "output_type": "execute_result",
          "data": {
            "text/plain": [
              "array([0.5 , 0.51, 0.52, 0.53, 0.54, 0.55, 0.56, 0.57, 0.58, 0.59, 0.6 ,\n",
              "       0.61, 0.62, 0.63, 0.64, 0.65, 0.66, 0.67, 0.68, 0.69, 0.7 , 0.71,\n",
              "       0.72, 0.73, 0.74, 0.75, 0.76, 0.77, 0.78, 0.79, 0.8 , 0.81, 0.82,\n",
              "       0.83, 0.84, 0.85, 0.86, 0.87, 0.88, 0.89, 0.9 , 0.91, 0.92, 0.93,\n",
              "       0.94, 0.95, 0.96, 0.97, 0.98, 0.99, 1.  , 1.01, 1.02, 1.03, 1.04,\n",
              "       1.05, 1.06, 1.07, 1.08, 1.09, 1.1 , 1.11, 1.12, 1.13, 1.14, 1.15,\n",
              "       1.16, 1.17, 1.18, 1.19, 1.2 , 1.21, 1.22, 1.23, 1.24, 1.25, 1.26,\n",
              "       1.27, 1.28, 1.29, 1.3 , 1.31, 1.32, 1.33, 1.34, 1.35, 1.36, 1.37,\n",
              "       1.38, 1.39, 1.4 , 1.41, 1.42, 1.43, 1.44, 1.45, 1.46, 1.47, 1.48,\n",
              "       1.49, 1.5 , 1.51, 1.52, 1.53, 1.54, 1.55, 1.56, 1.57, 1.58, 1.59,\n",
              "       1.6 , 1.61, 1.62, 1.63, 1.64, 1.65, 1.66, 1.67, 1.68, 1.69, 1.7 ,\n",
              "       1.71, 1.72, 1.73, 1.74, 1.75, 1.76, 1.77, 1.78, 1.79, 1.8 , 1.81,\n",
              "       1.82, 1.83, 1.84, 1.85, 1.86, 1.87, 1.88, 1.89, 1.9 , 1.91, 1.92,\n",
              "       1.93, 1.94, 1.95, 1.96, 1.97, 1.98, 1.99, 2.  , 2.01, 2.02, 2.03,\n",
              "       2.04, 2.05, 2.06, 2.07, 2.08, 2.09, 2.1 , 2.11, 2.12, 2.13, 2.14,\n",
              "       2.15, 2.16, 2.17, 2.18, 2.19, 2.2 , 2.21, 2.22, 2.23, 2.24, 2.25,\n",
              "       2.26, 2.27, 2.28, 2.29, 2.3 , 2.31, 2.32, 2.33, 2.34, 2.35, 2.36,\n",
              "       2.37, 2.38, 2.39, 2.4 , 2.41, 2.42, 2.43, 2.44, 2.45, 2.46, 2.47,\n",
              "       2.48, 2.49, 2.5 , 2.51, 2.52, 2.53, 2.54, 2.55, 2.56, 2.57, 2.58,\n",
              "       2.59, 2.6 , 2.61, 2.62, 2.63, 2.64, 2.65, 2.66, 2.67, 2.68, 2.69,\n",
              "       2.7 , 2.71, 2.72, 2.73, 2.74, 2.75, 2.76, 2.77, 2.78, 2.79, 2.8 ,\n",
              "       2.81, 2.82, 2.83, 2.84, 2.85, 2.86, 2.87, 2.88, 2.89, 2.9 , 2.91,\n",
              "       2.92, 2.93, 2.94, 2.95, 2.96, 2.97, 2.98, 2.99, 3.  , 3.01, 3.02,\n",
              "       3.03, 3.04, 3.05, 3.06, 3.07, 3.08, 3.09, 3.1 , 3.11, 3.12, 3.13,\n",
              "       3.14, 3.15, 3.16, 3.17, 3.18, 3.19, 3.2 , 3.21, 3.22, 3.23, 3.24,\n",
              "       3.25, 3.26, 3.27, 3.28, 3.29, 3.3 , 3.31, 3.32, 3.33, 3.34, 3.35,\n",
              "       3.36, 3.37, 3.38, 3.39, 3.4 , 3.41, 3.42, 3.43, 3.44, 3.45, 3.46,\n",
              "       3.47, 3.48, 3.49])"
            ]
          },
          "metadata": {
            "tags": []
          },
          "execution_count": 14
        }
      ]
    },
    {
      "cell_type": "markdown",
      "metadata": {
        "id": "CVZsdu5nPRx5"
      },
      "source": [
        "That's 300 generated values for mean price.\n",
        "\n",
        "Now store this range in dataframe called df_price_range:"
      ]
    },
    {
      "cell_type": "code",
      "metadata": {
        "id": "FqmDPF_cPHMq"
      },
      "source": [
        "df_price_range = pd.DataFrame(price_range)"
      ],
      "execution_count": 15,
      "outputs": []
    },
    {
      "cell_type": "markdown",
      "metadata": {
        "id": "OC-P-L9vqvlA"
      },
      "source": [
        "Predict the purchase probability for each mean price (each of the generated prices above):"
      ]
    },
    {
      "cell_type": "code",
      "metadata": {
        "id": "aRrGohd0PbLC",
        "outputId": "84f4ad61-1bad-4ea2-a423-75d2d30eff69",
        "colab": {
          "base_uri": "https://localhost:8080/"
        }
      },
      "source": [
        "Y_pr = model_purchase.predict_proba(df_price_range)\n",
        "Y_pr"
      ],
      "execution_count": 16,
      "outputs": [
        {
          "output_type": "execute_result",
          "data": {
            "text/plain": [
              "array([[0.0820951 , 0.9179049 ],\n",
              "       [0.08388202, 0.91611798],\n",
              "       [0.08570422, 0.91429578],\n",
              "       [0.08756221, 0.91243779],\n",
              "       [0.08945654, 0.91054346],\n",
              "       [0.09138775, 0.90861225],\n",
              "       [0.09335637, 0.90664363],\n",
              "       [0.09536295, 0.90463705],\n",
              "       [0.09740803, 0.90259197],\n",
              "       [0.09949214, 0.90050786],\n",
              "       [0.10161582, 0.89838418],\n",
              "       [0.10377961, 0.89622039],\n",
              "       [0.10598404, 0.89401596],\n",
              "       [0.10822964, 0.89177036],\n",
              "       [0.11051693, 0.88948307],\n",
              "       [0.11284645, 0.88715355],\n",
              "       [0.11521871, 0.88478129],\n",
              "       [0.11763423, 0.88236577],\n",
              "       [0.12009351, 0.87990649],\n",
              "       [0.12259707, 0.87740293],\n",
              "       [0.12514539, 0.87485461],\n",
              "       [0.12773897, 0.87226103],\n",
              "       [0.13037829, 0.86962171],\n",
              "       [0.13306383, 0.86693617],\n",
              "       [0.13579604, 0.86420396],\n",
              "       [0.13857539, 0.86142461],\n",
              "       [0.14140231, 0.85859769],\n",
              "       [0.14427725, 0.85572275],\n",
              "       [0.14720061, 0.85279939],\n",
              "       [0.15017282, 0.84982718],\n",
              "       [0.15319426, 0.84680574],\n",
              "       [0.15626531, 0.84373469],\n",
              "       [0.15938633, 0.84061367],\n",
              "       [0.16255769, 0.83744231],\n",
              "       [0.16577969, 0.83422031],\n",
              "       [0.16905267, 0.83094733],\n",
              "       [0.17237692, 0.82762308],\n",
              "       [0.17575271, 0.82424729],\n",
              "       [0.17918029, 0.82081971],\n",
              "       [0.18265991, 0.81734009],\n",
              "       [0.18619177, 0.81380823],\n",
              "       [0.18977607, 0.81022393],\n",
              "       [0.19341297, 0.80658703],\n",
              "       [0.19710261, 0.80289739],\n",
              "       [0.20084511, 0.79915489],\n",
              "       [0.20464056, 0.79535944],\n",
              "       [0.20848902, 0.79151098],\n",
              "       [0.21239053, 0.78760947],\n",
              "       [0.21634509, 0.78365491],\n",
              "       [0.22035269, 0.77964731],\n",
              "       [0.22441326, 0.77558674],\n",
              "       [0.22852672, 0.77147328],\n",
              "       [0.23269297, 0.76730703],\n",
              "       [0.23691184, 0.76308816],\n",
              "       [0.24118316, 0.75881684],\n",
              "       [0.24550672, 0.75449328],\n",
              "       [0.24988225, 0.75011775],\n",
              "       [0.25430949, 0.74569051],\n",
              "       [0.2587881 , 0.7412119 ],\n",
              "       [0.26331773, 0.73668227],\n",
              "       [0.26789799, 0.73210201],\n",
              "       [0.27252845, 0.72747155],\n",
              "       [0.27720864, 0.72279136],\n",
              "       [0.28193805, 0.71806195],\n",
              "       [0.28671614, 0.71328386],\n",
              "       [0.29154233, 0.70845767],\n",
              "       [0.296416  , 0.703584  ],\n",
              "       [0.30133649, 0.69866351],\n",
              "       [0.3063031 , 0.6936969 ],\n",
              "       [0.31131509, 0.68868491],\n",
              "       [0.31637169, 0.68362831],\n",
              "       [0.32147209, 0.67852791],\n",
              "       [0.32661542, 0.67338458],\n",
              "       [0.33180081, 0.66819919],\n",
              "       [0.33702732, 0.66297268],\n",
              "       [0.34229398, 0.65770602],\n",
              "       [0.34759979, 0.65240021],\n",
              "       [0.35294371, 0.64705629],\n",
              "       [0.35832467, 0.64167533],\n",
              "       [0.36374154, 0.63625846],\n",
              "       [0.36919319, 0.63080681],\n",
              "       [0.37467843, 0.62532157],\n",
              "       [0.38019604, 0.61980396],\n",
              "       [0.38574479, 0.61425521],\n",
              "       [0.39132339, 0.60867661],\n",
              "       [0.39693053, 0.60306947],\n",
              "       [0.40256488, 0.59743512],\n",
              "       [0.40822507, 0.59177493],\n",
              "       [0.41390971, 0.58609029],\n",
              "       [0.41961737, 0.58038263],\n",
              "       [0.42534662, 0.57465338],\n",
              "       [0.431096  , 0.568904  ],\n",
              "       [0.436864  , 0.563136  ],\n",
              "       [0.44264914, 0.55735086],\n",
              "       [0.44844987, 0.55155013],\n",
              "       [0.45426467, 0.54573533],\n",
              "       [0.46009197, 0.53990803],\n",
              "       [0.4659302 , 0.5340698 ],\n",
              "       [0.47177777, 0.52822223],\n",
              "       [0.47763311, 0.52236689],\n",
              "       [0.48349459, 0.51650541],\n",
              "       [0.48936063, 0.51063937],\n",
              "       [0.49522959, 0.50477041],\n",
              "       [0.50109987, 0.49890013],\n",
              "       [0.50696984, 0.49303016],\n",
              "       [0.5128379 , 0.4871621 ],\n",
              "       [0.51870241, 0.48129759],\n",
              "       [0.52456178, 0.47543822],\n",
              "       [0.5304144 , 0.4695856 ],\n",
              "       [0.53625866, 0.46374134],\n",
              "       [0.54209298, 0.45790702],\n",
              "       [0.54791577, 0.45208423],\n",
              "       [0.55372548, 0.44627452],\n",
              "       [0.55952055, 0.44047945],\n",
              "       [0.56529944, 0.43470056],\n",
              "       [0.57106064, 0.42893936],\n",
              "       [0.57680265, 0.42319735],\n",
              "       [0.58252398, 0.41747602],\n",
              "       [0.58822319, 0.41177681],\n",
              "       [0.59389883, 0.40610117],\n",
              "       [0.5995495 , 0.4004505 ],\n",
              "       [0.60517381, 0.39482619],\n",
              "       [0.61077041, 0.38922959],\n",
              "       [0.61633798, 0.38366202],\n",
              "       [0.62187521, 0.37812479],\n",
              "       [0.62738083, 0.37261917],\n",
              "       [0.63285363, 0.36714637],\n",
              "       [0.63829238, 0.36170762],\n",
              "       [0.64369593, 0.35630407],\n",
              "       [0.64906313, 0.35093687],\n",
              "       [0.6543929 , 0.3456071 ],\n",
              "       [0.65968416, 0.34031584],\n",
              "       [0.66493589, 0.33506411],\n",
              "       [0.6701471 , 0.3298529 ],\n",
              "       [0.67531684, 0.32468316],\n",
              "       [0.68044418, 0.31955582],\n",
              "       [0.68552827, 0.31447173],\n",
              "       [0.69056825, 0.30943175],\n",
              "       [0.69556332, 0.30443668],\n",
              "       [0.70051273, 0.29948727],\n",
              "       [0.70541576, 0.29458424],\n",
              "       [0.71027171, 0.28972829],\n",
              "       [0.71507995, 0.28492005],\n",
              "       [0.71983987, 0.28016013],\n",
              "       [0.72455089, 0.27544911],\n",
              "       [0.72921251, 0.27078749],\n",
              "       [0.73382421, 0.26617579],\n",
              "       [0.73838554, 0.26161446],\n",
              "       [0.7428961 , 0.2571039 ],\n",
              "       [0.7473555 , 0.2526445 ],\n",
              "       [0.7517634 , 0.2482366 ],\n",
              "       [0.75611949, 0.24388051],\n",
              "       [0.7604235 , 0.2395765 ],\n",
              "       [0.76467519, 0.23532481],\n",
              "       [0.76887436, 0.23112564],\n",
              "       [0.77302084, 0.22697916],\n",
              "       [0.7771145 , 0.2228855 ],\n",
              "       [0.78115523, 0.21884477],\n",
              "       [0.78514296, 0.21485704],\n",
              "       [0.78907764, 0.21092236],\n",
              "       [0.79295927, 0.20704073],\n",
              "       [0.79678786, 0.20321214],\n",
              "       [0.80056346, 0.19943654],\n",
              "       [0.80428614, 0.19571386],\n",
              "       [0.807956  , 0.192044  ],\n",
              "       [0.81157317, 0.18842683],\n",
              "       [0.8151378 , 0.1848622 ],\n",
              "       [0.81865006, 0.18134994],\n",
              "       [0.82211016, 0.17788984],\n",
              "       [0.82551831, 0.17448169],\n",
              "       [0.82887475, 0.17112525],\n",
              "       [0.83217975, 0.16782025],\n",
              "       [0.8354336 , 0.1645664 ],\n",
              "       [0.83863658, 0.16136342],\n",
              "       [0.84178904, 0.15821096],\n",
              "       [0.8448913 , 0.1551087 ],\n",
              "       [0.84794371, 0.15205629],\n",
              "       [0.85094666, 0.14905334],\n",
              "       [0.85390051, 0.14609949],\n",
              "       [0.85680568, 0.14319432],\n",
              "       [0.85966258, 0.14033742],\n",
              "       [0.86247163, 0.13752837],\n",
              "       [0.86523326, 0.13476674],\n",
              "       [0.86794793, 0.13205207],\n",
              "       [0.87061609, 0.12938391],\n",
              "       [0.87323822, 0.12676178],\n",
              "       [0.87581478, 0.12418522],\n",
              "       [0.87834627, 0.12165373],\n",
              "       [0.88083318, 0.11916682],\n",
              "       [0.883276  , 0.116724  ],\n",
              "       [0.88567525, 0.11432475],\n",
              "       [0.88803144, 0.11196856],\n",
              "       [0.89034507, 0.10965493],\n",
              "       [0.89261668, 0.10738332],\n",
              "       [0.89484679, 0.10515321],\n",
              "       [0.89703593, 0.10296407],\n",
              "       [0.89918462, 0.10081538],\n",
              "       [0.90129341, 0.09870659],\n",
              "       [0.90336283, 0.09663717],\n",
              "       [0.90539342, 0.09460658],\n",
              "       [0.90738572, 0.09261428],\n",
              "       [0.90934026, 0.09065974],\n",
              "       [0.91125759, 0.08874241],\n",
              "       [0.91313824, 0.08686176],\n",
              "       [0.91498275, 0.08501725],\n",
              "       [0.91679167, 0.08320833],\n",
              "       [0.91856552, 0.08143448],\n",
              "       [0.92030484, 0.07969516],\n",
              "       [0.92201017, 0.07798983],\n",
              "       [0.92368204, 0.07631796],\n",
              "       [0.92532096, 0.07467904],\n",
              "       [0.92692748, 0.07307252],\n",
              "       [0.92850211, 0.07149789],\n",
              "       [0.93004536, 0.06995464],\n",
              "       [0.93155776, 0.06844224],\n",
              "       [0.93303982, 0.06696018],\n",
              "       [0.93449204, 0.06550796],\n",
              "       [0.93591493, 0.06408507],\n",
              "       [0.93730899, 0.06269101],\n",
              "       [0.9386747 , 0.0613253 ],\n",
              "       [0.94001257, 0.05998743],\n",
              "       [0.94132308, 0.05867692],\n",
              "       [0.94260671, 0.05739329],\n",
              "       [0.94386392, 0.05613608],\n",
              "       [0.94509521, 0.05490479],\n",
              "       [0.94630102, 0.05369898],\n",
              "       [0.94748182, 0.05251818],\n",
              "       [0.94863807, 0.05136193],\n",
              "       [0.94977021, 0.05022979],\n",
              "       [0.95087869, 0.04912131],\n",
              "       [0.95196394, 0.04803606],\n",
              "       [0.9530264 , 0.0469736 ],\n",
              "       [0.9540665 , 0.0459335 ],\n",
              "       [0.95508465, 0.04491535],\n",
              "       [0.95608127, 0.04391873],\n",
              "       [0.95705677, 0.04294323],\n",
              "       [0.95801156, 0.04198844],\n",
              "       [0.95894603, 0.04105397],\n",
              "       [0.95986057, 0.04013943],\n",
              "       [0.96075557, 0.03924443],\n",
              "       [0.96163142, 0.03836858],\n",
              "       [0.96248848, 0.03751152],\n",
              "       [0.96332712, 0.03667288],\n",
              "       [0.96414772, 0.03585228],\n",
              "       [0.96495062, 0.03504938],\n",
              "       [0.96573618, 0.03426382],\n",
              "       [0.96650475, 0.03349525],\n",
              "       [0.96725665, 0.03274335],\n",
              "       [0.96799224, 0.03200776],\n",
              "       [0.96871184, 0.03128816],\n",
              "       [0.96941577, 0.03058423],\n",
              "       [0.97010436, 0.02989564],\n",
              "       [0.97077791, 0.02922209],\n",
              "       [0.97143672, 0.02856328],\n",
              "       [0.97208112, 0.02791888],\n",
              "       [0.97271138, 0.02728862],\n",
              "       [0.97332781, 0.02667219],\n",
              "       [0.97393068, 0.02606932],\n",
              "       [0.97452029, 0.02547971],\n",
              "       [0.9750969 , 0.0249031 ],\n",
              "       [0.97566079, 0.02433921],\n",
              "       [0.97621222, 0.02378778],\n",
              "       [0.97675145, 0.02324855],\n",
              "       [0.97727875, 0.02272125],\n",
              "       [0.97779436, 0.02220564],\n",
              "       [0.97829853, 0.02170147],\n",
              "       [0.9787915 , 0.0212085 ],\n",
              "       [0.9792735 , 0.0207265 ],\n",
              "       [0.97974478, 0.02025522],\n",
              "       [0.98020557, 0.01979443],\n",
              "       [0.98065607, 0.01934393],\n",
              "       [0.98109652, 0.01890348],\n",
              "       [0.98152713, 0.01847287],\n",
              "       [0.98194811, 0.01805189],\n",
              "       [0.98235967, 0.01764033],\n",
              "       [0.98276202, 0.01723798],\n",
              "       [0.98315534, 0.01684466],\n",
              "       [0.98353984, 0.01646016],\n",
              "       [0.9839157 , 0.0160843 ],\n",
              "       [0.98428312, 0.01571688],\n",
              "       [0.98464228, 0.01535772],\n",
              "       [0.98499336, 0.01500664],\n",
              "       [0.98533653, 0.01466347],\n",
              "       [0.98567196, 0.01432804],\n",
              "       [0.98599983, 0.01400017],\n",
              "       [0.98632031, 0.01367969],\n",
              "       [0.98663354, 0.01336646],\n",
              "       [0.9869397 , 0.0130603 ],\n",
              "       [0.98723894, 0.01276106],\n",
              "       [0.98753141, 0.01246859],\n",
              "       [0.98781726, 0.01218274],\n",
              "       [0.98809663, 0.01190337],\n",
              "       [0.98836967, 0.01163033],\n",
              "       [0.98863652, 0.01136348],\n",
              "       [0.98889732, 0.01110268],\n",
              "       [0.9891522 , 0.0108478 ],\n",
              "       [0.98940129, 0.01059871],\n",
              "       [0.98964472, 0.01035528],\n",
              "       [0.98988261, 0.01011739],\n",
              "       [0.9901151 , 0.0098849 ]])"
            ]
          },
          "metadata": {
            "tags": []
          },
          "execution_count": 16
        }
      ]
    },
    {
      "cell_type": "markdown",
      "metadata": {
        "id": "WYXf0BMgrXQe"
      },
      "source": [
        "That's an array with 300 rows (corresponding to 300 generated values for mean price), and 2 columns: the first column indicates the probability of no purchase, the second column the probability of purchase."
      ]
    },
    {
      "cell_type": "code",
      "metadata": {
        "id": "faFHX2BarKp2"
      },
      "source": [
        ""
      ],
      "execution_count": null,
      "outputs": []
    }
  ]
}