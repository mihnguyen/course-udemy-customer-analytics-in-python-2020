{
  "nbformat": 4,
  "nbformat_minor": 0,
  "metadata": {
    "colab": {
      "name": "[Udemy CAiP] Purchase Prediction Pt2 - Predictive Modeling.ipynb",
      "provenance": [],
      "authorship_tag": "ABX9TyMhQbO9u3Rfb7BIERC+nCk8",
      "include_colab_link": true
    },
    "kernelspec": {
      "name": "python3",
      "display_name": "Python 3"
    }
  },
  "cells": [
    {
      "cell_type": "markdown",
      "metadata": {
        "id": "view-in-github",
        "colab_type": "text"
      },
      "source": [
        "<a href=\"https://colab.research.google.com/github/mihnguyen/udemy-customer-analytics/blob/main/purchase-prediction/notebook_Purchase_Prediction_Pt2_Predictive_Modeling.ipynb\" target=\"_parent\"><img src=\"https://colab.research.google.com/assets/colab-badge.svg\" alt=\"Open In Colab\"/></a>"
      ]
    },
    {
      "cell_type": "markdown",
      "metadata": {
        "id": "TlBdQGLyvGZK"
      },
      "source": [
        "This notebook is part 2 and a continuation of the [[Udemy CAiP] Purchase Prediction Pt1 - Descriptive Analysis notebook](https://colab.research.google.com/drive/1Acmi4BOuO1V7LCxbnMCVzu46vFSpftA6#scrollTo=97I0svM77BjK&uniqifier=1).\n",
        "While part 1 is descriptive analysis, part 2 will concern predictive modeling."
      ]
    },
    {
      "cell_type": "markdown",
      "metadata": {
        "id": "blPXR44Xu_Ml"
      },
      "source": [
        "###Modeling Purchase Probability"
      ]
    },
    {
      "cell_type": "markdown",
      "metadata": {
        "id": "qZvIm9YVvBq7"
      },
      "source": [
        "Now we will calculate the probability of a customer purchasing at each shop visit. Method used is Logistic Regression."
      ]
    },
    {
      "cell_type": "code",
      "metadata": {
        "id": "YMXfBrP_u7_5"
      },
      "source": [
        ""
      ],
      "execution_count": null,
      "outputs": []
    }
  ]
}