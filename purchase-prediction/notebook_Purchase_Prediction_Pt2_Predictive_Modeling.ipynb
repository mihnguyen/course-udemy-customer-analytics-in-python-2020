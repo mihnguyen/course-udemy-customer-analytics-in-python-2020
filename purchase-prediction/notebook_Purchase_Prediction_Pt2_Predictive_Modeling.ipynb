{
  "nbformat": 4,
  "nbformat_minor": 0,
  "metadata": {
    "colab": {
      "name": "[Udemy CAiP] Purchase Prediction Pt2 - Predictive Modeling.ipynb",
      "provenance": [],
      "authorship_tag": "ABX9TyOJC2YVJzNQsHhD1vCDgRsb",
      "include_colab_link": true
    },
    "kernelspec": {
      "name": "python3",
      "display_name": "Python 3"
    }
  },
  "cells": [
    {
      "cell_type": "markdown",
      "metadata": {
        "id": "view-in-github",
        "colab_type": "text"
      },
      "source": [
        "<a href=\"https://colab.research.google.com/github/mihnguyen/udemy-customer-analytics/blob/main/purchase-prediction/notebook_Purchase_Prediction_Pt2_Predictive_Modeling.ipynb\" target=\"_parent\"><img src=\"https://colab.research.google.com/assets/colab-badge.svg\" alt=\"Open In Colab\"/></a>"
      ]
    },
    {
      "cell_type": "markdown",
      "metadata": {
        "id": "TlBdQGLyvGZK"
      },
      "source": [
        "This notebook is part 2 and a continuation of the [[Udemy CAiP] Purchase Prediction Pt1 - Descriptive Analysis notebook](https://colab.research.google.com/drive/1Acmi4BOuO1V7LCxbnMCVzu46vFSpftA6#scrollTo=97I0svM77BjK&uniqifier=1).\n",
        "While part 1 is descriptive analysis, part 2 will concern predictive modeling."
      ]
    },
    {
      "cell_type": "markdown",
      "metadata": {
        "id": "gs4FJpZB4SpO"
      },
      "source": [
        "###Import Libraries"
      ]
    },
    {
      "cell_type": "code",
      "metadata": {
        "id": "YMXfBrP_u7_5"
      },
      "source": [
        "import numpy as np\n",
        "import pandas as pd\n",
        "\n",
        "from sklearn.preprocessing import StandardScaler\n",
        "from sklearn.decomposition import PCA\n",
        "from sklearn.cluster import KMeans\n",
        "\n",
        "import pickle\n",
        "\n",
        "from sklearn.linear_model import LogisticRegression"
      ],
      "execution_count": 1,
      "outputs": []
    },
    {
      "cell_type": "markdown",
      "metadata": {
        "id": "dWU4e--N4ZTt"
      },
      "source": [
        "###Import Purchase Data"
      ]
    },
    {
      "cell_type": "code",
      "metadata": {
        "id": "gz7E4GVf4dEj",
        "outputId": "3b8b5f98-dfdd-428b-8abf-d8ee005e4181",
        "colab": {
          "resources": {
            "http://localhost:8080/nbextensions/google.colab/files.js": {
              "data": "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",
              "ok": true,
              "headers": [
                [
                  "content-type",
                  "application/javascript"
                ]
              ],
              "status": 200,
              "status_text": ""
            }
          },
          "base_uri": "https://localhost:8080/",
          "height": 70
        }
      },
      "source": [
        "from google.colab import files\n",
        "uploaded = files.upload()"
      ],
      "execution_count": 2,
      "outputs": [
        {
          "output_type": "display_data",
          "data": {
            "text/html": [
              "\n",
              "     <input type=\"file\" id=\"files-8e38367d-a1e7-45c7-ac5e-b86c0856f732\" name=\"files[]\" multiple disabled\n",
              "        style=\"border:none\" />\n",
              "     <output id=\"result-8e38367d-a1e7-45c7-ac5e-b86c0856f732\">\n",
              "      Upload widget is only available when the cell has been executed in the\n",
              "      current browser session. Please rerun this cell to enable.\n",
              "      </output>\n",
              "      <script src=\"/nbextensions/google.colab/files.js\"></script> "
            ],
            "text/plain": [
              "<IPython.core.display.HTML object>"
            ]
          },
          "metadata": {
            "tags": []
          }
        },
        {
          "output_type": "stream",
          "text": [
            "Saving purchase data.csv to purchase data.csv\n"
          ],
          "name": "stdout"
        }
      ]
    },
    {
      "cell_type": "code",
      "metadata": {
        "id": "UHVmoYrk5Orq"
      },
      "source": [
        "import io\n",
        "df_purchase = pd.read_csv(io.BytesIO(uploaded['purchase data.csv']))"
      ],
      "execution_count": 3,
      "outputs": []
    },
    {
      "cell_type": "markdown",
      "metadata": {
        "id": "M5_ejAGlJuU9"
      },
      "source": [
        "###Import Pickle Objects"
      ]
    },
    {
      "cell_type": "code",
      "metadata": {
        "id": "Ykmf3vOV4vpf",
        "outputId": "a2d1708b-3150-4114-f058-62c99befcdcc",
        "colab": {
          "base_uri": "https://localhost:8080/"
        }
      },
      "source": [
        "# Import pickle objects\n",
        "from google.colab import drive\n",
        "drive.mount('/content/drive')\n",
        "\n",
        "import pickle\n",
        "drive.mount('/content/drive')\n",
        "DATA_PATH = \"/content/drive/My Drive/Colab Notebooks\""
      ],
      "execution_count": 4,
      "outputs": [
        {
          "output_type": "stream",
          "text": [
            "Mounted at /content/drive\n",
            "Drive already mounted at /content/drive; to attempt to forcibly remount, call drive.mount(\"/content/drive\", force_remount=True).\n"
          ],
          "name": "stdout"
        }
      ]
    },
    {
      "cell_type": "code",
      "metadata": {
        "id": "Q8piEfVo6HnC",
        "outputId": "4869a0b3-95d1-4dd6-f2c3-5d2c157cecf1",
        "colab": {
          "base_uri": "https://localhost:8080/"
        }
      },
      "source": [
        "infile = open(DATA_PATH+'/pca.pickle','rb')\n",
        "pca = pickle.load(infile)\n",
        "\n",
        "pca"
      ],
      "execution_count": 5,
      "outputs": [
        {
          "output_type": "execute_result",
          "data": {
            "text/plain": [
              "PCA(copy=True, iterated_power='auto', n_components=3, random_state=None,\n",
              "    svd_solver='auto', tol=0.0, whiten=False)"
            ]
          },
          "metadata": {
            "tags": []
          },
          "execution_count": 5
        }
      ]
    },
    {
      "cell_type": "code",
      "metadata": {
        "id": "WrvVFsEy6NvG",
        "outputId": "afcaad9d-6bc4-46e7-dba7-c52797007ae5",
        "colab": {
          "base_uri": "https://localhost:8080/"
        }
      },
      "source": [
        "infile = open(DATA_PATH+'/scaler.pickle','rb')\n",
        "scaler = pickle.load(infile)\n",
        "\n",
        "scaler"
      ],
      "execution_count": 6,
      "outputs": [
        {
          "output_type": "execute_result",
          "data": {
            "text/plain": [
              "StandardScaler(copy=True, with_mean=True, with_std=True)"
            ]
          },
          "metadata": {
            "tags": []
          },
          "execution_count": 6
        }
      ]
    },
    {
      "cell_type": "code",
      "metadata": {
        "id": "70FOYQ-H6Ty8",
        "outputId": "cffb410c-c22b-41fd-d067-0e595c80c08e",
        "colab": {
          "base_uri": "https://localhost:8080/"
        }
      },
      "source": [
        "infile = open(DATA_PATH+'/kmeans_pca.pickle','rb')\n",
        "kmeans_pca = pickle.load(infile)\n",
        "\n",
        "kmeans_pca"
      ],
      "execution_count": 7,
      "outputs": [
        {
          "output_type": "execute_result",
          "data": {
            "text/plain": [
              "KMeans(algorithm='auto', copy_x=True, init='k-means++', max_iter=300,\n",
              "       n_clusters=4, n_init=10, n_jobs=None, precompute_distances='auto',\n",
              "       random_state=42, tol=0.0001, verbose=0)"
            ]
          },
          "metadata": {
            "tags": []
          },
          "execution_count": 7
        }
      ]
    },
    {
      "cell_type": "code",
      "metadata": {
        "id": "RkLpyDQx7GOS"
      },
      "source": [
        "# Standardize data\n",
        "features = df_purchase[['Sex', 'Marital status', 'Age', 'Education', 'Income', 'Occupation', 'Settlement size']]\n",
        "df_purchase_segm_std = scaler.transform(features)\n",
        "\n",
        "# Apply PCA\n",
        "df_purchase_segm_pca = pca.transform(df_purchase_segm_std)\n",
        "\n",
        "# Segment data\n",
        "purchase_segm_kmeans_pca = kmeans_pca.predict(df_purchase_segm_pca)\n",
        "\n",
        "# Create copy of dataframe\n",
        "df_purchase_predictors = df_purchase.copy()\n",
        "\n",
        "# Add segment labels\n",
        "df_purchase_predictors['Segment'] = purchase_segm_kmeans_pca\n",
        "segment_dummies = pd.get_dummies(purchase_segm_kmeans_pca, prefix = 'Segment', prefix_sep = '_')\n",
        "df_purchase_predictors = pd.concat([df_purchase_predictors, segment_dummies], axis = 1)\n",
        "\n",
        "df_pa = df_purchase_predictors"
      ],
      "execution_count": 9,
      "outputs": []
    },
    {
      "cell_type": "markdown",
      "metadata": {
        "id": "blPXR44Xu_Ml"
      },
      "source": [
        "###Modeling Purchase Probability"
      ]
    },
    {
      "cell_type": "markdown",
      "metadata": {
        "id": "qZvIm9YVvBq7"
      },
      "source": [
        "Now we will calculate the probability of a customer purchasing at each shop visit. Method used is Logistic Regression.\n",
        "\n",
        "First, define the dependent and independent variables.\n",
        "\n",
        "Dependent variable is whether a purchase happens or not (values are either 0 or 1).\n",
        "\n",
        "As for independent variable, common sense is that price has the most correlation to purchase. So price is the first independent variable. Here let's use the mean price (of all 5 brands) as the independent variable:"
      ]
    },
    {
      "cell_type": "code",
      "metadata": {
        "id": "DFjTuMDkgPgv"
      },
      "source": [
        "Y = df_pa['Incidence']"
      ],
      "execution_count": 10,
      "outputs": []
    },
    {
      "cell_type": "code",
      "metadata": {
        "id": "o_pLrk5foxRO"
      },
      "source": [
        "X = pd.DataFrame()\n",
        "X['Mean Price'] = (df_pa['Price_1'] +\n",
        "                   df_pa['Price_2'] +\n",
        "                   df_pa['Price_3'] +\n",
        "                   df_pa['Price_4'] +\n",
        "                   df_pa['Price_5'] ) / 5"
      ],
      "execution_count": 11,
      "outputs": []
    },
    {
      "cell_type": "markdown",
      "metadata": {
        "id": "GQoAsk6eqRa0"
      },
      "source": [
        "Now fit model to predic purchase probability:"
      ]
    },
    {
      "cell_type": "code",
      "metadata": {
        "id": "SkdXHTBBpEO0",
        "outputId": "3410f654-b9c4-4487-fc0b-142bc467a15c",
        "colab": {
          "base_uri": "https://localhost:8080/"
        }
      },
      "source": [
        "model_purchase = LogisticRegression(solver = 'sag') # 'sag' was chosen as the solver as it's optimal for simple problem with large dataset like this one\n",
        "model_purchase.fit(X, Y)"
      ],
      "execution_count": 12,
      "outputs": [
        {
          "output_type": "execute_result",
          "data": {
            "text/plain": [
              "LogisticRegression(C=1.0, class_weight=None, dual=False, fit_intercept=True,\n",
              "                   intercept_scaling=1, l1_ratio=None, max_iter=100,\n",
              "                   multi_class='auto', n_jobs=None, penalty='l2',\n",
              "                   random_state=None, solver='sag', tol=0.0001, verbose=0,\n",
              "                   warm_start=False)"
            ]
          },
          "metadata": {
            "tags": []
          },
          "execution_count": 12
        }
      ]
    },
    {
      "cell_type": "markdown",
      "metadata": {
        "id": "56XJCAHeqqpz"
      },
      "source": [
        "Now check the exact relationship between (Mean) Price (X) and Purchase Probability (Y) using coefficient for the independent variable (coef_ attribute), which is the mean price:"
      ]
    },
    {
      "cell_type": "code",
      "metadata": {
        "id": "tTE5SIFEqY-X",
        "outputId": "b534d05a-e382-47b7-da9c-c63f10743ae4",
        "colab": {
          "base_uri": "https://localhost:8080/"
        }
      },
      "source": [
        "model_purchase.coef_"
      ],
      "execution_count": 13,
      "outputs": [
        {
          "output_type": "execute_result",
          "data": {
            "text/plain": [
              "array([[-2.34805726]])"
            ]
          },
          "metadata": {
            "tags": []
          },
          "execution_count": 13
        }
      ]
    },
    {
      "cell_type": "markdown",
      "metadata": {
        "id": "U236OogcrBy7"
      },
      "source": [
        "The coefficient for mean price = -2.35. This indicates that an increase in price will result in a decrease in purchase probability (obviously). However, this coefficient only shows the direction of the relationship (which in this case is reverse, or negative).\n",
        "\n",
        "Next, let's quantify the magnitude of the negative relationship between mean price and purchase probability."
      ]
    },
    {
      "cell_type": "markdown",
      "metadata": {
        "id": "Zh7BwN_VJ3vB"
      },
      "source": [
        "###Modeling Price Elasticity of Purchase Probability"
      ]
    },
    {
      "cell_type": "markdown",
      "metadata": {
        "id": "7nWoSBDMMwr3"
      },
      "source": [
        "The purpose of this modeling is to check the effect of various mean prices on the purchase probability. Various mean prices here can be done by generating a range of mean price values. How to determine that range?\n",
        "\n",
        "First, by checking the 5 prices (Price_1 to Price_5) to see their distributions. This checking can be done through .describe() function:"
      ]
    },
    {
      "cell_type": "code",
      "metadata": {
        "id": "Oj27clhqMkD3",
        "outputId": "8408d54d-07de-42b4-9cab-d361ec242e40",
        "colab": {
          "base_uri": "https://localhost:8080/",
          "height": 277
        }
      },
      "source": [
        "df_pa[['Price_1', 'Price_2', 'Price_3', 'Price_4', 'Price_5']].describe()"
      ],
      "execution_count": 14,
      "outputs": [
        {
          "output_type": "execute_result",
          "data": {
            "text/html": [
              "<div>\n",
              "<style scoped>\n",
              "    .dataframe tbody tr th:only-of-type {\n",
              "        vertical-align: middle;\n",
              "    }\n",
              "\n",
              "    .dataframe tbody tr th {\n",
              "        vertical-align: top;\n",
              "    }\n",
              "\n",
              "    .dataframe thead th {\n",
              "        text-align: right;\n",
              "    }\n",
              "</style>\n",
              "<table border=\"1\" class=\"dataframe\">\n",
              "  <thead>\n",
              "    <tr style=\"text-align: right;\">\n",
              "      <th></th>\n",
              "      <th>Price_1</th>\n",
              "      <th>Price_2</th>\n",
              "      <th>Price_3</th>\n",
              "      <th>Price_4</th>\n",
              "      <th>Price_5</th>\n",
              "    </tr>\n",
              "  </thead>\n",
              "  <tbody>\n",
              "    <tr>\n",
              "      <th>count</th>\n",
              "      <td>58693.000000</td>\n",
              "      <td>58693.000000</td>\n",
              "      <td>58693.000000</td>\n",
              "      <td>58693.000000</td>\n",
              "      <td>58693.000000</td>\n",
              "    </tr>\n",
              "    <tr>\n",
              "      <th>mean</th>\n",
              "      <td>1.392074</td>\n",
              "      <td>1.780999</td>\n",
              "      <td>2.006789</td>\n",
              "      <td>2.159945</td>\n",
              "      <td>2.654798</td>\n",
              "    </tr>\n",
              "    <tr>\n",
              "      <th>std</th>\n",
              "      <td>0.091139</td>\n",
              "      <td>0.170868</td>\n",
              "      <td>0.046867</td>\n",
              "      <td>0.089825</td>\n",
              "      <td>0.098272</td>\n",
              "    </tr>\n",
              "    <tr>\n",
              "      <th>min</th>\n",
              "      <td>1.100000</td>\n",
              "      <td>1.260000</td>\n",
              "      <td>1.870000</td>\n",
              "      <td>1.760000</td>\n",
              "      <td>2.110000</td>\n",
              "    </tr>\n",
              "    <tr>\n",
              "      <th>25%</th>\n",
              "      <td>1.340000</td>\n",
              "      <td>1.580000</td>\n",
              "      <td>1.970000</td>\n",
              "      <td>2.120000</td>\n",
              "      <td>2.630000</td>\n",
              "    </tr>\n",
              "    <tr>\n",
              "      <th>50%</th>\n",
              "      <td>1.390000</td>\n",
              "      <td>1.880000</td>\n",
              "      <td>2.010000</td>\n",
              "      <td>2.170000</td>\n",
              "      <td>2.670000</td>\n",
              "    </tr>\n",
              "    <tr>\n",
              "      <th>75%</th>\n",
              "      <td>1.470000</td>\n",
              "      <td>1.890000</td>\n",
              "      <td>2.060000</td>\n",
              "      <td>2.240000</td>\n",
              "      <td>2.700000</td>\n",
              "    </tr>\n",
              "    <tr>\n",
              "      <th>max</th>\n",
              "      <td>1.590000</td>\n",
              "      <td>1.900000</td>\n",
              "      <td>2.140000</td>\n",
              "      <td>2.260000</td>\n",
              "      <td>2.800000</td>\n",
              "    </tr>\n",
              "  </tbody>\n",
              "</table>\n",
              "</div>"
            ],
            "text/plain": [
              "            Price_1       Price_2       Price_3       Price_4       Price_5\n",
              "count  58693.000000  58693.000000  58693.000000  58693.000000  58693.000000\n",
              "mean       1.392074      1.780999      2.006789      2.159945      2.654798\n",
              "std        0.091139      0.170868      0.046867      0.089825      0.098272\n",
              "min        1.100000      1.260000      1.870000      1.760000      2.110000\n",
              "25%        1.340000      1.580000      1.970000      2.120000      2.630000\n",
              "50%        1.390000      1.880000      2.010000      2.170000      2.670000\n",
              "75%        1.470000      1.890000      2.060000      2.240000      2.700000\n",
              "max        1.590000      1.900000      2.140000      2.260000      2.800000"
            ]
          },
          "metadata": {
            "tags": []
          },
          "execution_count": 14
        }
      ]
    },
    {
      "cell_type": "markdown",
      "metadata": {
        "id": "aOLqnNh8OBFD"
      },
      "source": [
        "The minimum price is 1.10 (min Price_1), while the maximum price is 2.80 (max Price_5).\n",
        "\n",
        "Then, the range of mean price we could pick is, say 0.50 to 3.50, for example. Now let's generate a range of numbers between 0.5 and 3.5, with steps = 0.01 to denote an increase in 1 cent (an increase in 1% of a dollar):"
      ]
    },
    {
      "cell_type": "code",
      "metadata": {
        "id": "aoSC8amUN-qg",
        "outputId": "2e91f785-5f93-47b6-d5a7-7fc6cd911f2a",
        "colab": {
          "base_uri": "https://localhost:8080/"
        }
      },
      "source": [
        "price_range = np.arange(0.5, 3.5, 0.01)\n",
        "price_range"
      ],
      "execution_count": 15,
      "outputs": [
        {
          "output_type": "execute_result",
          "data": {
            "text/plain": [
              "array([0.5 , 0.51, 0.52, 0.53, 0.54, 0.55, 0.56, 0.57, 0.58, 0.59, 0.6 ,\n",
              "       0.61, 0.62, 0.63, 0.64, 0.65, 0.66, 0.67, 0.68, 0.69, 0.7 , 0.71,\n",
              "       0.72, 0.73, 0.74, 0.75, 0.76, 0.77, 0.78, 0.79, 0.8 , 0.81, 0.82,\n",
              "       0.83, 0.84, 0.85, 0.86, 0.87, 0.88, 0.89, 0.9 , 0.91, 0.92, 0.93,\n",
              "       0.94, 0.95, 0.96, 0.97, 0.98, 0.99, 1.  , 1.01, 1.02, 1.03, 1.04,\n",
              "       1.05, 1.06, 1.07, 1.08, 1.09, 1.1 , 1.11, 1.12, 1.13, 1.14, 1.15,\n",
              "       1.16, 1.17, 1.18, 1.19, 1.2 , 1.21, 1.22, 1.23, 1.24, 1.25, 1.26,\n",
              "       1.27, 1.28, 1.29, 1.3 , 1.31, 1.32, 1.33, 1.34, 1.35, 1.36, 1.37,\n",
              "       1.38, 1.39, 1.4 , 1.41, 1.42, 1.43, 1.44, 1.45, 1.46, 1.47, 1.48,\n",
              "       1.49, 1.5 , 1.51, 1.52, 1.53, 1.54, 1.55, 1.56, 1.57, 1.58, 1.59,\n",
              "       1.6 , 1.61, 1.62, 1.63, 1.64, 1.65, 1.66, 1.67, 1.68, 1.69, 1.7 ,\n",
              "       1.71, 1.72, 1.73, 1.74, 1.75, 1.76, 1.77, 1.78, 1.79, 1.8 , 1.81,\n",
              "       1.82, 1.83, 1.84, 1.85, 1.86, 1.87, 1.88, 1.89, 1.9 , 1.91, 1.92,\n",
              "       1.93, 1.94, 1.95, 1.96, 1.97, 1.98, 1.99, 2.  , 2.01, 2.02, 2.03,\n",
              "       2.04, 2.05, 2.06, 2.07, 2.08, 2.09, 2.1 , 2.11, 2.12, 2.13, 2.14,\n",
              "       2.15, 2.16, 2.17, 2.18, 2.19, 2.2 , 2.21, 2.22, 2.23, 2.24, 2.25,\n",
              "       2.26, 2.27, 2.28, 2.29, 2.3 , 2.31, 2.32, 2.33, 2.34, 2.35, 2.36,\n",
              "       2.37, 2.38, 2.39, 2.4 , 2.41, 2.42, 2.43, 2.44, 2.45, 2.46, 2.47,\n",
              "       2.48, 2.49, 2.5 , 2.51, 2.52, 2.53, 2.54, 2.55, 2.56, 2.57, 2.58,\n",
              "       2.59, 2.6 , 2.61, 2.62, 2.63, 2.64, 2.65, 2.66, 2.67, 2.68, 2.69,\n",
              "       2.7 , 2.71, 2.72, 2.73, 2.74, 2.75, 2.76, 2.77, 2.78, 2.79, 2.8 ,\n",
              "       2.81, 2.82, 2.83, 2.84, 2.85, 2.86, 2.87, 2.88, 2.89, 2.9 , 2.91,\n",
              "       2.92, 2.93, 2.94, 2.95, 2.96, 2.97, 2.98, 2.99, 3.  , 3.01, 3.02,\n",
              "       3.03, 3.04, 3.05, 3.06, 3.07, 3.08, 3.09, 3.1 , 3.11, 3.12, 3.13,\n",
              "       3.14, 3.15, 3.16, 3.17, 3.18, 3.19, 3.2 , 3.21, 3.22, 3.23, 3.24,\n",
              "       3.25, 3.26, 3.27, 3.28, 3.29, 3.3 , 3.31, 3.32, 3.33, 3.34, 3.35,\n",
              "       3.36, 3.37, 3.38, 3.39, 3.4 , 3.41, 3.42, 3.43, 3.44, 3.45, 3.46,\n",
              "       3.47, 3.48, 3.49])"
            ]
          },
          "metadata": {
            "tags": []
          },
          "execution_count": 15
        }
      ]
    },
    {
      "cell_type": "markdown",
      "metadata": {
        "id": "CVZsdu5nPRx5"
      },
      "source": [
        "That's 300 generated values for mean price.\n",
        "\n",
        "Now store this range in dataframe called df_price_range:"
      ]
    },
    {
      "cell_type": "code",
      "metadata": {
        "id": "FqmDPF_cPHMq"
      },
      "source": [
        "df_price_range = pd.DataFrame(price_range)"
      ],
      "execution_count": 16,
      "outputs": []
    },
    {
      "cell_type": "markdown",
      "metadata": {
        "id": "OC-P-L9vqvlA"
      },
      "source": [
        "Predict the purchase probability for each mean price (each of the generated prices above):"
      ]
    },
    {
      "cell_type": "code",
      "metadata": {
        "id": "aRrGohd0PbLC",
        "outputId": "f69aad2f-0dcd-421a-b7fc-61b3f04cf1aa",
        "colab": {
          "base_uri": "https://localhost:8080/"
        }
      },
      "source": [
        "Y_pr = model_purchase.predict_proba(df_price_range)\n",
        "Y_pr"
      ],
      "execution_count": 17,
      "outputs": [
        {
          "output_type": "execute_result",
          "data": {
            "text/plain": [
              "array([[0.08210919, 0.91789081],\n",
              "       [0.08389631, 0.91610369],\n",
              "       [0.0857187 , 0.9142813 ],\n",
              "       [0.08757688, 0.91242312],\n",
              "       [0.08947141, 0.91052859],\n",
              "       [0.09140281, 0.90859719],\n",
              "       [0.09337163, 0.90662837],\n",
              "       [0.09537841, 0.90462159],\n",
              "       [0.09742369, 0.90257631],\n",
              "       [0.09950799, 0.90049201],\n",
              "       [0.10163187, 0.89836813],\n",
              "       [0.10379586, 0.89620414],\n",
              "       [0.10600048, 0.89399952],\n",
              "       [0.10824628, 0.89175372],\n",
              "       [0.11053377, 0.88946623],\n",
              "       [0.11286349, 0.88713651],\n",
              "       [0.11523594, 0.88476406],\n",
              "       [0.11765166, 0.88234834],\n",
              "       [0.12011114, 0.87988886],\n",
              "       [0.12261489, 0.87738511],\n",
              "       [0.1251634 , 0.8748366 ],\n",
              "       [0.12775718, 0.87224282],\n",
              "       [0.13039669, 0.86960331],\n",
              "       [0.13308242, 0.86691758],\n",
              "       [0.13581482, 0.86418518],\n",
              "       [0.13859436, 0.86140564],\n",
              "       [0.14142147, 0.85857853],\n",
              "       [0.14429659, 0.85570341],\n",
              "       [0.14722014, 0.85277986],\n",
              "       [0.15019252, 0.84980748],\n",
              "       [0.15321414, 0.84678586],\n",
              "       [0.15628537, 0.84371463],\n",
              "       [0.15940657, 0.84059343],\n",
              "       [0.16257809, 0.83742191],\n",
              "       [0.16580027, 0.83419973],\n",
              "       [0.16907341, 0.83092659],\n",
              "       [0.17239782, 0.82760218],\n",
              "       [0.17577377, 0.82422623],\n",
              "       [0.17920151, 0.82079849],\n",
              "       [0.18268128, 0.81731872],\n",
              "       [0.18621329, 0.81378671],\n",
              "       [0.18979773, 0.81020227],\n",
              "       [0.19343477, 0.80656523],\n",
              "       [0.19712455, 0.80287545],\n",
              "       [0.20086718, 0.79913282],\n",
              "       [0.20466275, 0.79533725],\n",
              "       [0.20851134, 0.79148866],\n",
              "       [0.21241296, 0.78758704],\n",
              "       [0.21636764, 0.78363236],\n",
              "       [0.22037534, 0.77962466],\n",
              "       [0.22443601, 0.77556399],\n",
              "       [0.22854957, 0.77145043],\n",
              "       [0.23271591, 0.76728409],\n",
              "       [0.23693486, 0.76306514],\n",
              "       [0.24120626, 0.75879374],\n",
              "       [0.24552989, 0.75447011],\n",
              "       [0.24990549, 0.75009451],\n",
              "       [0.25433278, 0.74566722],\n",
              "       [0.25881145, 0.74118855],\n",
              "       [0.26334112, 0.73665888],\n",
              "       [0.26792142, 0.73207858],\n",
              "       [0.27255191, 0.72744809],\n",
              "       [0.27723212, 0.72276788],\n",
              "       [0.28196155, 0.71803845],\n",
              "       [0.28673965, 0.71326035],\n",
              "       [0.29156584, 0.70843416],\n",
              "       [0.29643951, 0.70356049],\n",
              "       [0.30135998, 0.69864002],\n",
              "       [0.30632657, 0.69367343],\n",
              "       [0.31133853, 0.68866147],\n",
              "       [0.31639509, 0.68360491],\n",
              "       [0.32149544, 0.67850456],\n",
              "       [0.32663873, 0.67336127],\n",
              "       [0.33182405, 0.66817595],\n",
              "       [0.33705049, 0.66294951],\n",
              "       [0.34231707, 0.65768293],\n",
              "       [0.3476228 , 0.6523772 ],\n",
              "       [0.35296662, 0.64703338],\n",
              "       [0.35834747, 0.64165253],\n",
              "       [0.36376424, 0.63623576],\n",
              "       [0.36921576, 0.63078424],\n",
              "       [0.37470087, 0.62529913],\n",
              "       [0.38021836, 0.61978164],\n",
              "       [0.38576696, 0.61423304],\n",
              "       [0.39134541, 0.60865459],\n",
              "       [0.39695239, 0.60304761],\n",
              "       [0.40258657, 0.59741343],\n",
              "       [0.40824658, 0.59175342],\n",
              "       [0.41393104, 0.58606896],\n",
              "       [0.41963851, 0.58036149],\n",
              "       [0.42536756, 0.57463244],\n",
              "       [0.43111673, 0.56888327],\n",
              "       [0.43688453, 0.56311547],\n",
              "       [0.44266944, 0.55733056],\n",
              "       [0.44846995, 0.55153005],\n",
              "       [0.45428451, 0.54571549],\n",
              "       [0.46011157, 0.53988843],\n",
              "       [0.46594955, 0.53405045],\n",
              "       [0.47179688, 0.52820312],\n",
              "       [0.47765195, 0.52234805],\n",
              "       [0.48351317, 0.51648683],\n",
              "       [0.48937894, 0.51062106],\n",
              "       [0.49524763, 0.50475237],\n",
              "       [0.50111762, 0.49888238],\n",
              "       [0.50698731, 0.49301269],\n",
              "       [0.51285508, 0.48714492],\n",
              "       [0.5187193 , 0.4812807 ],\n",
              "       [0.52457837, 0.47542163],\n",
              "       [0.53043068, 0.46956932],\n",
              "       [0.53627464, 0.46372536],\n",
              "       [0.54210865, 0.45789135],\n",
              "       [0.54793113, 0.45206887],\n",
              "       [0.55374053, 0.44625947],\n",
              "       [0.55953528, 0.44046472],\n",
              "       [0.56531385, 0.43468615],\n",
              "       [0.57107473, 0.42892527],\n",
              "       [0.57681641, 0.42318359],\n",
              "       [0.58253742, 0.41746258],\n",
              "       [0.5882363 , 0.4117637 ],\n",
              "       [0.59391161, 0.40608839],\n",
              "       [0.59956195, 0.40043805],\n",
              "       [0.60518593, 0.39481407],\n",
              "       [0.61078221, 0.38921779],\n",
              "       [0.61634944, 0.38365056],\n",
              "       [0.62188634, 0.37811366],\n",
              "       [0.62739164, 0.37260836],\n",
              "       [0.63286411, 0.36713589],\n",
              "       [0.63830254, 0.36169746],\n",
              "       [0.64370576, 0.35629424],\n",
              "       [0.64907264, 0.35092736],\n",
              "       [0.65440208, 0.34559792],\n",
              "       [0.65969302, 0.34030698],\n",
              "       [0.66494444, 0.33505556],\n",
              "       [0.67015533, 0.32984467],\n",
              "       [0.67532475, 0.32467525],\n",
              "       [0.68045179, 0.31954821],\n",
              "       [0.68553557, 0.31446443],\n",
              "       [0.69057524, 0.30942476],\n",
              "       [0.69557001, 0.30442999],\n",
              "       [0.70051913, 0.29948087],\n",
              "       [0.70542186, 0.29457814],\n",
              "       [0.71027752, 0.28972248],\n",
              "       [0.71508547, 0.28491453],\n",
              "       [0.7198451 , 0.2801549 ],\n",
              "       [0.72455585, 0.27544415],\n",
              "       [0.72921719, 0.27078281],\n",
              "       [0.73382862, 0.26617138],\n",
              "       [0.73838969, 0.26161031],\n",
              "       [0.74289999, 0.25710001],\n",
              "       [0.74735913, 0.25264087],\n",
              "       [0.75176678, 0.24823322],\n",
              "       [0.75612262, 0.24387738],\n",
              "       [0.76042638, 0.23957362],\n",
              "       [0.76467784, 0.23532216],\n",
              "       [0.76887677, 0.23112323],\n",
              "       [0.77302303, 0.22697697],\n",
              "       [0.77711646, 0.22288354],\n",
              "       [0.78115697, 0.21884303],\n",
              "       [0.78514449, 0.21485551],\n",
              "       [0.78907896, 0.21092104],\n",
              "       [0.79296039, 0.20703961],\n",
              "       [0.79678878, 0.20321122],\n",
              "       [0.80056419, 0.19943581],\n",
              "       [0.80428668, 0.19571332],\n",
              "       [0.80795636, 0.19204364],\n",
              "       [0.81157336, 0.18842664],\n",
              "       [0.81513781, 0.18486219],\n",
              "       [0.81864991, 0.18135009],\n",
              "       [0.82210984, 0.17789016],\n",
              "       [0.82551783, 0.17448217],\n",
              "       [0.82887412, 0.17112588],\n",
              "       [0.83217897, 0.16782103],\n",
              "       [0.83543267, 0.16456733],\n",
              "       [0.83863553, 0.16136447],\n",
              "       [0.84178785, 0.15821215],\n",
              "       [0.84488998, 0.15511002],\n",
              "       [0.84794227, 0.15205773],\n",
              "       [0.85094509, 0.14905491],\n",
              "       [0.85389884, 0.14610116],\n",
              "       [0.8568039 , 0.1431961 ],\n",
              "       [0.85966068, 0.14033932],\n",
              "       [0.86246963, 0.13753037],\n",
              "       [0.86523116, 0.13476884],\n",
              "       [0.86794574, 0.13205426],\n",
              "       [0.87061381, 0.12938619],\n",
              "       [0.87323585, 0.12676415],\n",
              "       [0.87581234, 0.12418766],\n",
              "       [0.87834375, 0.12165625],\n",
              "       [0.88083058, 0.11916942],\n",
              "       [0.88327334, 0.11672666],\n",
              "       [0.88567252, 0.11432748],\n",
              "       [0.88802864, 0.11197136],\n",
              "       [0.89034222, 0.10965778],\n",
              "       [0.89261377, 0.10738623],\n",
              "       [0.89484383, 0.10515617],\n",
              "       [0.89703291, 0.10296709],\n",
              "       [0.89918156, 0.10081844],\n",
              "       [0.90129031, 0.09870969],\n",
              "       [0.90335969, 0.09664031],\n",
              "       [0.90539024, 0.09460976],\n",
              "       [0.90738251, 0.09261749],\n",
              "       [0.90933702, 0.09066298],\n",
              "       [0.91125431, 0.08874569],\n",
              "       [0.91313494, 0.08686506],\n",
              "       [0.91497943, 0.08502057],\n",
              "       [0.91678832, 0.08321168],\n",
              "       [0.91856215, 0.08143785],\n",
              "       [0.92030146, 0.07969854],\n",
              "       [0.92200678, 0.07799322],\n",
              "       [0.92367863, 0.07632137],\n",
              "       [0.92531754, 0.07468246],\n",
              "       [0.92692405, 0.07307595],\n",
              "       [0.92849867, 0.07150133],\n",
              "       [0.93004192, 0.06995808],\n",
              "       [0.93155432, 0.06844568],\n",
              "       [0.93303638, 0.06696362],\n",
              "       [0.9344886 , 0.0655114 ],\n",
              "       [0.93591149, 0.06408851],\n",
              "       [0.93730555, 0.06269445],\n",
              "       [0.93867127, 0.06132873],\n",
              "       [0.94000915, 0.05999085],\n",
              "       [0.94131966, 0.05868034],\n",
              "       [0.9426033 , 0.0573967 ],\n",
              "       [0.94386053, 0.05613947],\n",
              "       [0.94509182, 0.05490818],\n",
              "       [0.94629765, 0.05370235],\n",
              "       [0.94747846, 0.05252154],\n",
              "       [0.94863473, 0.05136527],\n",
              "       [0.94976688, 0.05023312],\n",
              "       [0.95087538, 0.04912462],\n",
              "       [0.95196065, 0.04803935],\n",
              "       [0.95302313, 0.04697687],\n",
              "       [0.95406324, 0.04593676],\n",
              "       [0.95508141, 0.04491859],\n",
              "       [0.95607806, 0.04392194],\n",
              "       [0.95705358, 0.04294642],\n",
              "       [0.95800839, 0.04199161],\n",
              "       [0.95894288, 0.04105712],\n",
              "       [0.95985745, 0.04014255],\n",
              "       [0.96075247, 0.03924753],\n",
              "       [0.96162834, 0.03837166],\n",
              "       [0.96248543, 0.03751457],\n",
              "       [0.9633241 , 0.0366759 ],\n",
              "       [0.96414472, 0.03585528],\n",
              "       [0.96494765, 0.03505235],\n",
              "       [0.96573324, 0.03426676],\n",
              "       [0.96650183, 0.03349817],\n",
              "       [0.96725377, 0.03274623],\n",
              "       [0.96798938, 0.03201062],\n",
              "       [0.96870901, 0.03129099],\n",
              "       [0.96941297, 0.03058703],\n",
              "       [0.97010158, 0.02989842],\n",
              "       [0.97077516, 0.02922484],\n",
              "       [0.97143401, 0.02856599],\n",
              "       [0.97207843, 0.02792157],\n",
              "       [0.97270872, 0.02729128],\n",
              "       [0.97332518, 0.02667482],\n",
              "       [0.97392808, 0.02607192],\n",
              "       [0.97451772, 0.02548228],\n",
              "       [0.97509436, 0.02490564],\n",
              "       [0.97565827, 0.02434173],\n",
              "       [0.97620973, 0.02379027],\n",
              "       [0.976749  , 0.023251  ],\n",
              "       [0.97727632, 0.02272368],\n",
              "       [0.97779196, 0.02220804],\n",
              "       [0.97829616, 0.02170384],\n",
              "       [0.97878916, 0.02121084],\n",
              "       [0.9792712 , 0.0207288 ],\n",
              "       [0.97974251, 0.02025749],\n",
              "       [0.98020332, 0.01979668],\n",
              "       [0.98065385, 0.01934615],\n",
              "       [0.98109433, 0.01890567],\n",
              "       [0.98152497, 0.01847503],\n",
              "       [0.98194598, 0.01805402],\n",
              "       [0.98235757, 0.01764243],\n",
              "       [0.98275994, 0.01724006],\n",
              "       [0.98315329, 0.01684671],\n",
              "       [0.98353781, 0.01646219],\n",
              "       [0.98391371, 0.01608629],\n",
              "       [0.98428115, 0.01571885],\n",
              "       [0.98464034, 0.01535966],\n",
              "       [0.98499144, 0.01500856],\n",
              "       [0.98533464, 0.01466536],\n",
              "       [0.9856701 , 0.0143299 ],\n",
              "       [0.985998  , 0.014002  ],\n",
              "       [0.9863185 , 0.0136815 ],\n",
              "       [0.98663176, 0.01336824],\n",
              "       [0.98693795, 0.01306205],\n",
              "       [0.98723721, 0.01276279],\n",
              "       [0.9875297 , 0.0124703 ],\n",
              "       [0.98781558, 0.01218442],\n",
              "       [0.98809497, 0.01190503],\n",
              "       [0.98836804, 0.01163196],\n",
              "       [0.98863492, 0.01136508],\n",
              "       [0.98889574, 0.01110426],\n",
              "       [0.98915064, 0.01084936],\n",
              "       [0.98939975, 0.01060025],\n",
              "       [0.9896432 , 0.0103568 ],\n",
              "       [0.98988112, 0.01011888],\n",
              "       [0.99011363, 0.00988637]])"
            ]
          },
          "metadata": {
            "tags": []
          },
          "execution_count": 17
        }
      ]
    },
    {
      "cell_type": "markdown",
      "metadata": {
        "id": "WYXf0BMgrXQe"
      },
      "source": [
        "That's an array with 300 rows (corresponding to 300 generated values for mean price), and 2 columns: the first column indicates the probability of no purchase, the second column the probability of purchase. Obviously, the lower the price, the higher the purchase probability.\n",
        "\n",
        "Let's store it in a variable called purchase_pr:"
      ]
    },
    {
      "cell_type": "code",
      "metadata": {
        "id": "faFHX2BarKp2"
      },
      "source": [
        "purchase_pr = Y_pr[:][:, 1]"
      ],
      "execution_count": 18,
      "outputs": []
    },
    {
      "cell_type": "markdown",
      "metadata": {
        "id": "P0X--5m2p-pZ"
      },
      "source": [
        "Now, in order to answer how purchase probability changes with a given change in price, we'll calculate the price elasticities."
      ]
    },
    {
      "cell_type": "code",
      "metadata": {
        "id": "Jy6immnuuA3l"
      },
      "source": [
        ""
      ],
      "execution_count": 18,
      "outputs": []
    }
  ]
}