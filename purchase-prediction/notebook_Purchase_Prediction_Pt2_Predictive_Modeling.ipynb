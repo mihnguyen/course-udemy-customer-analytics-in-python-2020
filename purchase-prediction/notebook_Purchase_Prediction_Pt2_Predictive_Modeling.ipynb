{
  "nbformat": 4,
  "nbformat_minor": 0,
  "metadata": {
    "colab": {
      "name": "[Udemy CAiP] Purchase Prediction Pt2 - Predictive Modeling.ipynb",
      "provenance": [],
      "authorship_tag": "ABX9TyOJC2YVJzNQsHhD1vCDgRsb",
      "include_colab_link": true
    },
    "kernelspec": {
      "name": "python3",
      "display_name": "Python 3"
    }
  },
  "cells": [
    {
      "cell_type": "markdown",
      "metadata": {
        "id": "view-in-github",
        "colab_type": "text"
      },
      "source": [
        "<a href=\"https://colab.research.google.com/github/mihnguyen/udemy-customer-analytics/blob/main/purchase-prediction/notebook_Purchase_Prediction_Pt2_Predictive_Modeling.ipynb\" target=\"_parent\"><img src=\"https://colab.research.google.com/assets/colab-badge.svg\" alt=\"Open In Colab\"/></a>"
      ]
    },
    {
      "cell_type": "markdown",
      "metadata": {
        "id": "TlBdQGLyvGZK"
      },
      "source": [
        "This notebook is part 2 and a continuation of the [[Udemy CAiP] Purchase Prediction Pt1 - Descriptive Analysis notebook](https://colab.research.google.com/drive/1Acmi4BOuO1V7LCxbnMCVzu46vFSpftA6#scrollTo=97I0svM77BjK&uniqifier=1).\n",
        "While part 1 is descriptive analysis, part 2 will concern predictive modeling."
      ]
    },
    {
      "cell_type": "markdown",
      "metadata": {
        "id": "gs4FJpZB4SpO"
      },
      "source": [
        "###Import Libraries"
      ]
    },
    {
      "cell_type": "code",
      "metadata": {
        "id": "YMXfBrP_u7_5"
      },
      "source": [
        "import numpy as np\n",
        "import pandas as pd\n",
        "\n",
        "from sklearn.preprocessing import StandardScaler\n",
        "from sklearn.decomposition import PCA\n",
        "from sklearn.cluster import KMeans\n",
        "\n",
        "import pickle\n",
        "\n",
        "from sklearn.linear_model import LogisticRegression"
      ],
      "execution_count": 1,
      "outputs": []
    },
    {
      "cell_type": "markdown",
      "metadata": {
        "id": "dWU4e--N4ZTt"
      },
      "source": [
        "###Import Purchase Data"
      ]
    },
    {
      "cell_type": "code",
      "metadata": {
        "id": "gz7E4GVf4dEj",
        "outputId": "2bdaa3d8-4831-464b-b4bc-98410336c4a2",
        "colab": {
          "resources": {
            "http://localhost:8080/nbextensions/google.colab/files.js": {
              "data": "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",
              "ok": true,
              "headers": [
                [
                  "content-type",
                  "application/javascript"
                ]
              ],
              "status": 200,
              "status_text": ""
            }
          },
          "base_uri": "https://localhost:8080/",
          "height": 70
        }
      },
      "source": [
        "from google.colab import files\n",
        "uploaded = files.upload()"
      ],
      "execution_count": 2,
      "outputs": [
        {
          "output_type": "display_data",
          "data": {
            "text/html": [
              "\n",
              "     <input type=\"file\" id=\"files-6801c8a1-6d12-4283-984c-63a9d1c2c552\" name=\"files[]\" multiple disabled\n",
              "        style=\"border:none\" />\n",
              "     <output id=\"result-6801c8a1-6d12-4283-984c-63a9d1c2c552\">\n",
              "      Upload widget is only available when the cell has been executed in the\n",
              "      current browser session. Please rerun this cell to enable.\n",
              "      </output>\n",
              "      <script src=\"/nbextensions/google.colab/files.js\"></script> "
            ],
            "text/plain": [
              "<IPython.core.display.HTML object>"
            ]
          },
          "metadata": {
            "tags": []
          }
        },
        {
          "output_type": "stream",
          "text": [
            "Saving purchase data.csv to purchase data.csv\n"
          ],
          "name": "stdout"
        }
      ]
    },
    {
      "cell_type": "code",
      "metadata": {
        "id": "UHVmoYrk5Orq"
      },
      "source": [
        "import io\n",
        "df_purchase = pd.read_csv(io.BytesIO(uploaded['purchase data.csv']))"
      ],
      "execution_count": 4,
      "outputs": []
    },
    {
      "cell_type": "markdown",
      "metadata": {
        "id": "M5_ejAGlJuU9"
      },
      "source": [
        "###Import Pickle Objects"
      ]
    },
    {
      "cell_type": "code",
      "metadata": {
        "id": "Ykmf3vOV4vpf",
        "outputId": "01e053ba-5ed7-46b6-d9b5-eb5cbed50140",
        "colab": {
          "base_uri": "https://localhost:8080/"
        }
      },
      "source": [
        "# Import pickle objects\n",
        "from google.colab import drive\n",
        "drive.mount('/content/drive')\n",
        "\n",
        "import pickle\n",
        "drive.mount('/content/drive')\n",
        "DATA_PATH = \"/content/drive/My Drive/Colab Notebooks\""
      ],
      "execution_count": 3,
      "outputs": [
        {
          "output_type": "stream",
          "text": [
            "Mounted at /content/drive\n",
            "Drive already mounted at /content/drive; to attempt to forcibly remount, call drive.mount(\"/content/drive\", force_remount=True).\n"
          ],
          "name": "stdout"
        }
      ]
    },
    {
      "cell_type": "code",
      "metadata": {
        "id": "Q8piEfVo6HnC",
        "outputId": "f8af85d4-3725-4bc2-adf9-27ebfa7ef0ac",
        "colab": {
          "base_uri": "https://localhost:8080/"
        }
      },
      "source": [
        "infile = open(DATA_PATH+'/pca.pickle','rb')\n",
        "pca = pickle.load(infile)\n",
        "\n",
        "pca"
      ],
      "execution_count": 5,
      "outputs": [
        {
          "output_type": "execute_result",
          "data": {
            "text/plain": [
              "PCA(copy=True, iterated_power='auto', n_components=3, random_state=None,\n",
              "    svd_solver='auto', tol=0.0, whiten=False)"
            ]
          },
          "metadata": {
            "tags": []
          },
          "execution_count": 5
        }
      ]
    },
    {
      "cell_type": "code",
      "metadata": {
        "id": "WrvVFsEy6NvG",
        "outputId": "5f245942-dfb4-4a95-e37e-5fc57e0209de",
        "colab": {
          "base_uri": "https://localhost:8080/"
        }
      },
      "source": [
        "infile = open(DATA_PATH+'/scaler.pickle','rb')\n",
        "scaler = pickle.load(infile)\n",
        "\n",
        "scaler"
      ],
      "execution_count": 6,
      "outputs": [
        {
          "output_type": "execute_result",
          "data": {
            "text/plain": [
              "StandardScaler(copy=True, with_mean=True, with_std=True)"
            ]
          },
          "metadata": {
            "tags": []
          },
          "execution_count": 6
        }
      ]
    },
    {
      "cell_type": "code",
      "metadata": {
        "id": "70FOYQ-H6Ty8",
        "outputId": "fa2fb759-2fb4-42c7-9d71-95fba68f9f72",
        "colab": {
          "base_uri": "https://localhost:8080/"
        }
      },
      "source": [
        "infile = open(DATA_PATH+'/kmeans_pca.pickle','rb')\n",
        "kmeans_pca = pickle.load(infile)\n",
        "\n",
        "kmeans_pca"
      ],
      "execution_count": 7,
      "outputs": [
        {
          "output_type": "execute_result",
          "data": {
            "text/plain": [
              "KMeans(algorithm='auto', copy_x=True, init='k-means++', max_iter=300,\n",
              "       n_clusters=4, n_init=10, n_jobs=None, precompute_distances='auto',\n",
              "       random_state=42, tol=0.0001, verbose=0)"
            ]
          },
          "metadata": {
            "tags": []
          },
          "execution_count": 7
        }
      ]
    },
    {
      "cell_type": "code",
      "metadata": {
        "id": "RkLpyDQx7GOS"
      },
      "source": [
        "# Standardize data\n",
        "features = df_purchase[['Sex', 'Marital status', 'Age', 'Education', 'Income', 'Occupation', 'Settlement size']]\n",
        "df_purchase_segm_std = scaler.transform(features)\n",
        "\n",
        "# Apply PCA\n",
        "df_purchase_segm_pca = pca.transform(df_purchase_segm_std)\n",
        "\n",
        "# Segment data\n",
        "purchase_segm_kmeans_pca = kmeans_pca.predict(df_purchase_segm_pca)\n",
        "\n",
        "# Create copy of dataframe\n",
        "df_purchase_predictors = df_purchase.copy()\n",
        "\n",
        "# Add segment labels\n",
        "df_purchase_predictors['Segment'] = purchase_segm_kmeans_pca\n",
        "segment_dummies = pd.get_dummies(purchase_segm_kmeans_pca, prefix = 'Segment', prefix_sep = '_')\n",
        "df_purchase_predictors = pd.concat([df_purchase_predictors, segment_dummies], axis = 1)\n",
        "\n",
        "df_pa = df_purchase_predictors"
      ],
      "execution_count": 8,
      "outputs": []
    },
    {
      "cell_type": "markdown",
      "metadata": {
        "id": "blPXR44Xu_Ml"
      },
      "source": [
        "###Modeling Purchase Probability"
      ]
    },
    {
      "cell_type": "markdown",
      "metadata": {
        "id": "qZvIm9YVvBq7"
      },
      "source": [
        "Now we will calculate the probability of a customer purchasing at each shop visit. Method used is Logistic Regression.\n",
        "\n",
        "First, define the dependent and independent variables.\n",
        "\n",
        "Dependent variable is whether a purchase happens or not (values are either 0 or 1).\n",
        "\n",
        "As for independent variable, common sense is that price has the most correlation to purchase. So price is the first independent variable. Here let's use the mean price (of all 5 brands) as the independent variable:"
      ]
    },
    {
      "cell_type": "code",
      "metadata": {
        "id": "DFjTuMDkgPgv"
      },
      "source": [
        "Y = df_pa['Incidence']"
      ],
      "execution_count": 9,
      "outputs": []
    },
    {
      "cell_type": "code",
      "metadata": {
        "id": "o_pLrk5foxRO"
      },
      "source": [
        "X = pd.DataFrame()\n",
        "X['Mean Price'] = (df_pa['Price_1'] +\n",
        "                   df_pa['Price_2'] +\n",
        "                   df_pa['Price_3'] +\n",
        "                   df_pa['Price_4'] +\n",
        "                   df_pa['Price_5'] ) / 5"
      ],
      "execution_count": 10,
      "outputs": []
    },
    {
      "cell_type": "markdown",
      "metadata": {
        "id": "GQoAsk6eqRa0"
      },
      "source": [
        "Now fit model to predic purchase probability:"
      ]
    },
    {
      "cell_type": "code",
      "metadata": {
        "id": "SkdXHTBBpEO0",
        "outputId": "c3b7ed35-3453-4ed7-adfc-4544afe2aa34",
        "colab": {
          "base_uri": "https://localhost:8080/"
        }
      },
      "source": [
        "model_purchase = LogisticRegression(solver = 'sag') # 'sag' was chosen as the solver as it's optimal for simple problem with large dataset like this one\n",
        "model_purchase.fit(X, Y)"
      ],
      "execution_count": 11,
      "outputs": [
        {
          "output_type": "execute_result",
          "data": {
            "text/plain": [
              "LogisticRegression(C=1.0, class_weight=None, dual=False, fit_intercept=True,\n",
              "                   intercept_scaling=1, l1_ratio=None, max_iter=100,\n",
              "                   multi_class='auto', n_jobs=None, penalty='l2',\n",
              "                   random_state=None, solver='sag', tol=0.0001, verbose=0,\n",
              "                   warm_start=False)"
            ]
          },
          "metadata": {
            "tags": []
          },
          "execution_count": 11
        }
      ]
    },
    {
      "cell_type": "markdown",
      "metadata": {
        "id": "56XJCAHeqqpz"
      },
      "source": [
        "Now check the exact relationship between (Mean) Price (X) and Purchase Probability (Y) using coefficient for the independent variable (coef_ attribute), which is the mean price:"
      ]
    },
    {
      "cell_type": "code",
      "metadata": {
        "id": "tTE5SIFEqY-X",
        "outputId": "804c9f80-a051-4d8f-b514-374a5d83d7b4",
        "colab": {
          "base_uri": "https://localhost:8080/"
        }
      },
      "source": [
        "model_purchase.coef_"
      ],
      "execution_count": 12,
      "outputs": [
        {
          "output_type": "execute_result",
          "data": {
            "text/plain": [
              "array([[-2.34795857]])"
            ]
          },
          "metadata": {
            "tags": []
          },
          "execution_count": 12
        }
      ]
    },
    {
      "cell_type": "markdown",
      "metadata": {
        "id": "U236OogcrBy7"
      },
      "source": [
        "The coefficient for mean price = -2.35. This indicates that an increase in price will result in a decrease in purchase probability (obviously). However, this coefficient only shows the direction of the relationship (which in this case is reverse, or negative).\n",
        "\n",
        "Next, let's quantify the magnitude of the negative relationship between mean price and purchase probability."
      ]
    },
    {
      "cell_type": "markdown",
      "metadata": {
        "id": "Zh7BwN_VJ3vB"
      },
      "source": [
        "###Modeling Price Elasticity of Purchase Probability"
      ]
    },
    {
      "cell_type": "markdown",
      "metadata": {
        "id": "7nWoSBDMMwr3"
      },
      "source": [
        "The purpose of this modeling is to check the effect of various mean prices on the purchase probability. Various mean prices here can be done by generating a range of mean price values. How to determine that range?\n",
        "\n",
        "First, by checking the 5 prices (Price_1 to Price_5) to see their distributions. This checking can be done through .describe() function:"
      ]
    },
    {
      "cell_type": "code",
      "metadata": {
        "id": "Oj27clhqMkD3",
        "outputId": "c75cf628-7a08-4869-c788-f55e5ffd05e0",
        "colab": {
          "base_uri": "https://localhost:8080/",
          "height": 0
        }
      },
      "source": [
        "df_pa[['Price_1', 'Price_2', 'Price_3', 'Price_4', 'Price_5']].describe()"
      ],
      "execution_count": 13,
      "outputs": [
        {
          "output_type": "execute_result",
          "data": {
            "text/html": [
              "<div>\n",
              "<style scoped>\n",
              "    .dataframe tbody tr th:only-of-type {\n",
              "        vertical-align: middle;\n",
              "    }\n",
              "\n",
              "    .dataframe tbody tr th {\n",
              "        vertical-align: top;\n",
              "    }\n",
              "\n",
              "    .dataframe thead th {\n",
              "        text-align: right;\n",
              "    }\n",
              "</style>\n",
              "<table border=\"1\" class=\"dataframe\">\n",
              "  <thead>\n",
              "    <tr style=\"text-align: right;\">\n",
              "      <th></th>\n",
              "      <th>Price_1</th>\n",
              "      <th>Price_2</th>\n",
              "      <th>Price_3</th>\n",
              "      <th>Price_4</th>\n",
              "      <th>Price_5</th>\n",
              "    </tr>\n",
              "  </thead>\n",
              "  <tbody>\n",
              "    <tr>\n",
              "      <th>count</th>\n",
              "      <td>58693.000000</td>\n",
              "      <td>58693.000000</td>\n",
              "      <td>58693.000000</td>\n",
              "      <td>58693.000000</td>\n",
              "      <td>58693.000000</td>\n",
              "    </tr>\n",
              "    <tr>\n",
              "      <th>mean</th>\n",
              "      <td>1.392074</td>\n",
              "      <td>1.780999</td>\n",
              "      <td>2.006789</td>\n",
              "      <td>2.159945</td>\n",
              "      <td>2.654798</td>\n",
              "    </tr>\n",
              "    <tr>\n",
              "      <th>std</th>\n",
              "      <td>0.091139</td>\n",
              "      <td>0.170868</td>\n",
              "      <td>0.046867</td>\n",
              "      <td>0.089825</td>\n",
              "      <td>0.098272</td>\n",
              "    </tr>\n",
              "    <tr>\n",
              "      <th>min</th>\n",
              "      <td>1.100000</td>\n",
              "      <td>1.260000</td>\n",
              "      <td>1.870000</td>\n",
              "      <td>1.760000</td>\n",
              "      <td>2.110000</td>\n",
              "    </tr>\n",
              "    <tr>\n",
              "      <th>25%</th>\n",
              "      <td>1.340000</td>\n",
              "      <td>1.580000</td>\n",
              "      <td>1.970000</td>\n",
              "      <td>2.120000</td>\n",
              "      <td>2.630000</td>\n",
              "    </tr>\n",
              "    <tr>\n",
              "      <th>50%</th>\n",
              "      <td>1.390000</td>\n",
              "      <td>1.880000</td>\n",
              "      <td>2.010000</td>\n",
              "      <td>2.170000</td>\n",
              "      <td>2.670000</td>\n",
              "    </tr>\n",
              "    <tr>\n",
              "      <th>75%</th>\n",
              "      <td>1.470000</td>\n",
              "      <td>1.890000</td>\n",
              "      <td>2.060000</td>\n",
              "      <td>2.240000</td>\n",
              "      <td>2.700000</td>\n",
              "    </tr>\n",
              "    <tr>\n",
              "      <th>max</th>\n",
              "      <td>1.590000</td>\n",
              "      <td>1.900000</td>\n",
              "      <td>2.140000</td>\n",
              "      <td>2.260000</td>\n",
              "      <td>2.800000</td>\n",
              "    </tr>\n",
              "  </tbody>\n",
              "</table>\n",
              "</div>"
            ],
            "text/plain": [
              "            Price_1       Price_2       Price_3       Price_4       Price_5\n",
              "count  58693.000000  58693.000000  58693.000000  58693.000000  58693.000000\n",
              "mean       1.392074      1.780999      2.006789      2.159945      2.654798\n",
              "std        0.091139      0.170868      0.046867      0.089825      0.098272\n",
              "min        1.100000      1.260000      1.870000      1.760000      2.110000\n",
              "25%        1.340000      1.580000      1.970000      2.120000      2.630000\n",
              "50%        1.390000      1.880000      2.010000      2.170000      2.670000\n",
              "75%        1.470000      1.890000      2.060000      2.240000      2.700000\n",
              "max        1.590000      1.900000      2.140000      2.260000      2.800000"
            ]
          },
          "metadata": {
            "tags": []
          },
          "execution_count": 13
        }
      ]
    },
    {
      "cell_type": "markdown",
      "metadata": {
        "id": "aOLqnNh8OBFD"
      },
      "source": [
        "The minimum price is 1.10 (min Price_1), while the maximum price is 2.80 (max Price_5).\n",
        "\n",
        "Then, the range of mean price we could pick is, say 0.50 to 3.50, for example. Now let's generate a range of numbers between 0.5 and 3.5, with steps = 0.01 to denote an increase in 1 cent (an increase in 1% of a dollar):"
      ]
    },
    {
      "cell_type": "code",
      "metadata": {
        "id": "aoSC8amUN-qg",
        "outputId": "56f9d5d0-c81f-4a47-c50a-d1eee00e2e7e",
        "colab": {
          "base_uri": "https://localhost:8080/"
        }
      },
      "source": [
        "price_range = np.arange(0.5, 3.5, 0.01)\n",
        "price_range"
      ],
      "execution_count": 14,
      "outputs": [
        {
          "output_type": "execute_result",
          "data": {
            "text/plain": [
              "array([0.5 , 0.51, 0.52, 0.53, 0.54, 0.55, 0.56, 0.57, 0.58, 0.59, 0.6 ,\n",
              "       0.61, 0.62, 0.63, 0.64, 0.65, 0.66, 0.67, 0.68, 0.69, 0.7 , 0.71,\n",
              "       0.72, 0.73, 0.74, 0.75, 0.76, 0.77, 0.78, 0.79, 0.8 , 0.81, 0.82,\n",
              "       0.83, 0.84, 0.85, 0.86, 0.87, 0.88, 0.89, 0.9 , 0.91, 0.92, 0.93,\n",
              "       0.94, 0.95, 0.96, 0.97, 0.98, 0.99, 1.  , 1.01, 1.02, 1.03, 1.04,\n",
              "       1.05, 1.06, 1.07, 1.08, 1.09, 1.1 , 1.11, 1.12, 1.13, 1.14, 1.15,\n",
              "       1.16, 1.17, 1.18, 1.19, 1.2 , 1.21, 1.22, 1.23, 1.24, 1.25, 1.26,\n",
              "       1.27, 1.28, 1.29, 1.3 , 1.31, 1.32, 1.33, 1.34, 1.35, 1.36, 1.37,\n",
              "       1.38, 1.39, 1.4 , 1.41, 1.42, 1.43, 1.44, 1.45, 1.46, 1.47, 1.48,\n",
              "       1.49, 1.5 , 1.51, 1.52, 1.53, 1.54, 1.55, 1.56, 1.57, 1.58, 1.59,\n",
              "       1.6 , 1.61, 1.62, 1.63, 1.64, 1.65, 1.66, 1.67, 1.68, 1.69, 1.7 ,\n",
              "       1.71, 1.72, 1.73, 1.74, 1.75, 1.76, 1.77, 1.78, 1.79, 1.8 , 1.81,\n",
              "       1.82, 1.83, 1.84, 1.85, 1.86, 1.87, 1.88, 1.89, 1.9 , 1.91, 1.92,\n",
              "       1.93, 1.94, 1.95, 1.96, 1.97, 1.98, 1.99, 2.  , 2.01, 2.02, 2.03,\n",
              "       2.04, 2.05, 2.06, 2.07, 2.08, 2.09, 2.1 , 2.11, 2.12, 2.13, 2.14,\n",
              "       2.15, 2.16, 2.17, 2.18, 2.19, 2.2 , 2.21, 2.22, 2.23, 2.24, 2.25,\n",
              "       2.26, 2.27, 2.28, 2.29, 2.3 , 2.31, 2.32, 2.33, 2.34, 2.35, 2.36,\n",
              "       2.37, 2.38, 2.39, 2.4 , 2.41, 2.42, 2.43, 2.44, 2.45, 2.46, 2.47,\n",
              "       2.48, 2.49, 2.5 , 2.51, 2.52, 2.53, 2.54, 2.55, 2.56, 2.57, 2.58,\n",
              "       2.59, 2.6 , 2.61, 2.62, 2.63, 2.64, 2.65, 2.66, 2.67, 2.68, 2.69,\n",
              "       2.7 , 2.71, 2.72, 2.73, 2.74, 2.75, 2.76, 2.77, 2.78, 2.79, 2.8 ,\n",
              "       2.81, 2.82, 2.83, 2.84, 2.85, 2.86, 2.87, 2.88, 2.89, 2.9 , 2.91,\n",
              "       2.92, 2.93, 2.94, 2.95, 2.96, 2.97, 2.98, 2.99, 3.  , 3.01, 3.02,\n",
              "       3.03, 3.04, 3.05, 3.06, 3.07, 3.08, 3.09, 3.1 , 3.11, 3.12, 3.13,\n",
              "       3.14, 3.15, 3.16, 3.17, 3.18, 3.19, 3.2 , 3.21, 3.22, 3.23, 3.24,\n",
              "       3.25, 3.26, 3.27, 3.28, 3.29, 3.3 , 3.31, 3.32, 3.33, 3.34, 3.35,\n",
              "       3.36, 3.37, 3.38, 3.39, 3.4 , 3.41, 3.42, 3.43, 3.44, 3.45, 3.46,\n",
              "       3.47, 3.48, 3.49])"
            ]
          },
          "metadata": {
            "tags": []
          },
          "execution_count": 14
        }
      ]
    },
    {
      "cell_type": "markdown",
      "metadata": {
        "id": "CVZsdu5nPRx5"
      },
      "source": [
        "That's 300 generated values for mean price.\n",
        "\n",
        "Now store this range in dataframe called df_price_range:"
      ]
    },
    {
      "cell_type": "code",
      "metadata": {
        "id": "FqmDPF_cPHMq"
      },
      "source": [
        "df_price_range = pd.DataFrame(price_range)"
      ],
      "execution_count": 15,
      "outputs": []
    },
    {
      "cell_type": "markdown",
      "metadata": {
        "id": "OC-P-L9vqvlA"
      },
      "source": [
        "Predict the purchase probability for each mean price (each of the generated prices above):"
      ]
    },
    {
      "cell_type": "code",
      "metadata": {
        "id": "aRrGohd0PbLC",
        "outputId": "daf65aa9-a5cb-4c37-d6ff-b27c151e14c4",
        "colab": {
          "base_uri": "https://localhost:8080/"
        }
      },
      "source": [
        "Y_pr = model_purchase.predict_proba(df_price_range)\n",
        "Y_pr"
      ],
      "execution_count": 16,
      "outputs": [
        {
          "output_type": "execute_result",
          "data": {
            "text/plain": [
              "array([[0.08212118, 0.91787882],\n",
              "       [0.08390846, 0.91609154],\n",
              "       [0.08573101, 0.91426899],\n",
              "       [0.08758936, 0.91241064],\n",
              "       [0.08948405, 0.91051595],\n",
              "       [0.09141562, 0.90858438],\n",
              "       [0.0933846 , 0.9066154 ],\n",
              "       [0.09539154, 0.90460846],\n",
              "       [0.09743698, 0.90256302],\n",
              "       [0.09952145, 0.90047855],\n",
              "       [0.1016455 , 0.8983545 ],\n",
              "       [0.10380965, 0.89619035],\n",
              "       [0.10601444, 0.89398556],\n",
              "       [0.1082604 , 0.8917396 ],\n",
              "       [0.11054805, 0.88945195],\n",
              "       [0.11287793, 0.88712207],\n",
              "       [0.11525055, 0.88474945],\n",
              "       [0.11766643, 0.88233357],\n",
              "       [0.12012607, 0.87987393],\n",
              "       [0.12262998, 0.87737002],\n",
              "       [0.12517866, 0.87482134],\n",
              "       [0.1277726 , 0.8722274 ],\n",
              "       [0.13041227, 0.86958773],\n",
              "       [0.13309815, 0.86690185],\n",
              "       [0.13583071, 0.86416929],\n",
              "       [0.1386104 , 0.8613896 ],\n",
              "       [0.14143767, 0.85856233],\n",
              "       [0.14431294, 0.85568706],\n",
              "       [0.14723664, 0.85276336],\n",
              "       [0.15020918, 0.84979082],\n",
              "       [0.15323094, 0.84676906],\n",
              "       [0.15630231, 0.84369769],\n",
              "       [0.15942365, 0.84057635],\n",
              "       [0.16259532, 0.83740468],\n",
              "       [0.16581763, 0.83418237],\n",
              "       [0.16909091, 0.83090909],\n",
              "       [0.17241545, 0.82758455],\n",
              "       [0.17579153, 0.82420847],\n",
              "       [0.17921939, 0.82078061],\n",
              "       [0.18269929, 0.81730071],\n",
              "       [0.18623142, 0.81376858],\n",
              "       [0.18981597, 0.81018403],\n",
              "       [0.19345313, 0.80654687],\n",
              "       [0.19714301, 0.80285699],\n",
              "       [0.20088575, 0.79911425],\n",
              "       [0.20468142, 0.79531858],\n",
              "       [0.2085301 , 0.7914699 ],\n",
              "       [0.21243182, 0.78756818],\n",
              "       [0.21638658, 0.78361342],\n",
              "       [0.22039437, 0.77960563],\n",
              "       [0.22445512, 0.77554488],\n",
              "       [0.22856875, 0.77143125],\n",
              "       [0.23273515, 0.76726485],\n",
              "       [0.23695417, 0.76304583],\n",
              "       [0.24122563, 0.75877437],\n",
              "       [0.2455493 , 0.7544507 ],\n",
              "       [0.24992495, 0.75007505],\n",
              "       [0.25435229, 0.74564771],\n",
              "       [0.25883098, 0.74116902],\n",
              "       [0.26336069, 0.73663931],\n",
              "       [0.26794101, 0.73205899],\n",
              "       [0.27257152, 0.72742848],\n",
              "       [0.27725174, 0.72274826],\n",
              "       [0.28198117, 0.71801883],\n",
              "       [0.28675927, 0.71324073],\n",
              "       [0.29158546, 0.70841454],\n",
              "       [0.2964591 , 0.7035409 ],\n",
              "       [0.30137956, 0.69862044],\n",
              "       [0.30634612, 0.69365388],\n",
              "       [0.31135804, 0.68864196],\n",
              "       [0.31641456, 0.68358544],\n",
              "       [0.32151486, 0.67848514],\n",
              "       [0.32665809, 0.67334191],\n",
              "       [0.33184335, 0.66815665],\n",
              "       [0.33706972, 0.66293028],\n",
              "       [0.34233622, 0.65766378],\n",
              "       [0.34764187, 0.65235813],\n",
              "       [0.3529856 , 0.6470144 ],\n",
              "       [0.35836635, 0.64163365],\n",
              "       [0.36378301, 0.63621699],\n",
              "       [0.36923443, 0.63076557],\n",
              "       [0.37471942, 0.62528058],\n",
              "       [0.38023678, 0.61976322],\n",
              "       [0.38578525, 0.61421475],\n",
              "       [0.39136356, 0.60863644],\n",
              "       [0.39697039, 0.60302961],\n",
              "       [0.40260442, 0.59739558],\n",
              "       [0.40826428, 0.59173572],\n",
              "       [0.41394856, 0.58605144],\n",
              "       [0.41965587, 0.58034413],\n",
              "       [0.42538474, 0.57461526],\n",
              "       [0.43113372, 0.56886628],\n",
              "       [0.43690133, 0.56309867],\n",
              "       [0.44268605, 0.55731395],\n",
              "       [0.44848635, 0.55151365],\n",
              "       [0.45430071, 0.54569929],\n",
              "       [0.46012756, 0.53987244],\n",
              "       [0.46596532, 0.53403468],\n",
              "       [0.47181242, 0.52818758],\n",
              "       [0.47766727, 0.52233273],\n",
              "       [0.48352826, 0.51647174],\n",
              "       [0.48939379, 0.51060621],\n",
              "       [0.49526223, 0.50473777],\n",
              "       [0.50113198, 0.49886802],\n",
              "       [0.50700143, 0.49299857],\n",
              "       [0.51286894, 0.48713106],\n",
              "       [0.5187329 , 0.4812671 ],\n",
              "       [0.52459171, 0.47540829],\n",
              "       [0.53044376, 0.46955624],\n",
              "       [0.53628745, 0.46371255],\n",
              "       [0.54212119, 0.45787881],\n",
              "       [0.54794341, 0.45205659],\n",
              "       [0.55375253, 0.44624747],\n",
              "       [0.559547  , 0.440453  ],\n",
              "       [0.5653253 , 0.4346747 ],\n",
              "       [0.5710859 , 0.4289141 ],\n",
              "       [0.5768273 , 0.4231727 ],\n",
              "       [0.58254803, 0.41745197],\n",
              "       [0.58824663, 0.41175337],\n",
              "       [0.59392166, 0.40607834],\n",
              "       [0.59957171, 0.40042829],\n",
              "       [0.60519542, 0.39480458],\n",
              "       [0.61079141, 0.38920859],\n",
              "       [0.61635836, 0.38364164],\n",
              "       [0.62189498, 0.37810502],\n",
              "       [0.6274    , 0.3726    ],\n",
              "       [0.63287218, 0.36712782],\n",
              "       [0.63831033, 0.36168967],\n",
              "       [0.64371328, 0.35628672],\n",
              "       [0.64907988, 0.35092012],\n",
              "       [0.65440905, 0.34559095],\n",
              "       [0.65969972, 0.34030028],\n",
              "       [0.66495086, 0.33504914],\n",
              "       [0.67016148, 0.32983852],\n",
              "       [0.67533064, 0.32466936],\n",
              "       [0.68045742, 0.31954258],\n",
              "       [0.68554093, 0.31445907],\n",
              "       [0.69058035, 0.30941965],\n",
              "       [0.69557486, 0.30442514],\n",
              "       [0.70052372, 0.29947628],\n",
              "       [0.70542621, 0.29457379],\n",
              "       [0.71028162, 0.28971838],\n",
              "       [0.71508933, 0.28491067],\n",
              "       [0.71984873, 0.28015127],\n",
              "       [0.72455924, 0.27544076],\n",
              "       [0.72922035, 0.27077965],\n",
              "       [0.73383155, 0.26616845],\n",
              "       [0.7383924 , 0.2616076 ],\n",
              "       [0.74290248, 0.25709752],\n",
              "       [0.74736141, 0.25263859],\n",
              "       [0.75176884, 0.24823116],\n",
              "       [0.75612448, 0.24387552],\n",
              "       [0.76042804, 0.23957196],\n",
              "       [0.76467929, 0.23532071],\n",
              "       [0.76887804, 0.23112196],\n",
              "       [0.7730241 , 0.2269759 ],\n",
              "       [0.77711735, 0.22288265],\n",
              "       [0.78115768, 0.21884232],\n",
              "       [0.78514502, 0.21485498],\n",
              "       [0.78907933, 0.21092067],\n",
              "       [0.79296059, 0.20703941],\n",
              "       [0.79678882, 0.20321118],\n",
              "       [0.80056407, 0.19943593],\n",
              "       [0.80428641, 0.19571359],\n",
              "       [0.80795594, 0.19204406],\n",
              "       [0.81157278, 0.18842722],\n",
              "       [0.8151371 , 0.1848629 ],\n",
              "       [0.81864906, 0.18135094],\n",
              "       [0.82210886, 0.17789114],\n",
              "       [0.82551672, 0.17448328],\n",
              "       [0.82887289, 0.17112711],\n",
              "       [0.83217762, 0.16782238],\n",
              "       [0.83543121, 0.16456879],\n",
              "       [0.83863395, 0.16136605],\n",
              "       [0.84178617, 0.15821383],\n",
              "       [0.84488819, 0.15511181],\n",
              "       [0.84794039, 0.15205961],\n",
              "       [0.85094312, 0.14905688],\n",
              "       [0.85389677, 0.14610323],\n",
              "       [0.85680174, 0.14319826],\n",
              "       [0.85965845, 0.14034155],\n",
              "       [0.86246731, 0.13753269],\n",
              "       [0.86522877, 0.13477123],\n",
              "       [0.86794328, 0.13205672],\n",
              "       [0.87061128, 0.12938872],\n",
              "       [0.87323326, 0.12676674],\n",
              "       [0.87580968, 0.12419032],\n",
              "       [0.87834103, 0.12165897],\n",
              "       [0.88082781, 0.11917219],\n",
              "       [0.88327051, 0.11672949],\n",
              "       [0.88566964, 0.11433036],\n",
              "       [0.88802572, 0.11197428],\n",
              "       [0.89033925, 0.10966075],\n",
              "       [0.89261076, 0.10738924],\n",
              "       [0.89484078, 0.10515922],\n",
              "       [0.89702983, 0.10297017],\n",
              "       [0.89917845, 0.10082155],\n",
              "       [0.90128717, 0.09871283],\n",
              "       [0.90335652, 0.09664348],\n",
              "       [0.90538705, 0.09461295],\n",
              "       [0.90737929, 0.09262071],\n",
              "       [0.90933378, 0.09066622],\n",
              "       [0.91125106, 0.08874894],\n",
              "       [0.91313167, 0.08686833],\n",
              "       [0.91497614, 0.08502386],\n",
              "       [0.91678502, 0.08321498],\n",
              "       [0.91855885, 0.08144115],\n",
              "       [0.92029815, 0.07970185],\n",
              "       [0.92200346, 0.07799654],\n",
              "       [0.9236753 , 0.0763247 ],\n",
              "       [0.92531422, 0.07468578],\n",
              "       [0.92692072, 0.07307928],\n",
              "       [0.92849534, 0.07150466],\n",
              "       [0.9300386 , 0.0699614 ],\n",
              "       [0.931551  , 0.068449  ],\n",
              "       [0.93303306, 0.06696694],\n",
              "       [0.93448529, 0.06551471],\n",
              "       [0.93590819, 0.06409181],\n",
              "       [0.93730225, 0.06269775],\n",
              "       [0.93866799, 0.06133201],\n",
              "       [0.94000587, 0.05999413],\n",
              "       [0.9413164 , 0.0586836 ],\n",
              "       [0.94260005, 0.05739995],\n",
              "       [0.9438573 , 0.0561427 ],\n",
              "       [0.94508861, 0.05491139],\n",
              "       [0.94629445, 0.05370555],\n",
              "       [0.94747528, 0.05252472],\n",
              "       [0.94863156, 0.05136844],\n",
              "       [0.94976374, 0.05023626],\n",
              "       [0.95087225, 0.04912775],\n",
              "       [0.95195754, 0.04804246],\n",
              "       [0.95302005, 0.04697995],\n",
              "       [0.95406018, 0.04593982],\n",
              "       [0.95507837, 0.04492163],\n",
              "       [0.95607504, 0.04392496],\n",
              "       [0.95705059, 0.04294941],\n",
              "       [0.95800542, 0.04199458],\n",
              "       [0.95893993, 0.04106007],\n",
              "       [0.95985453, 0.04014547],\n",
              "       [0.96074958, 0.03925042],\n",
              "       [0.96162547, 0.03837453],\n",
              "       [0.96248259, 0.03751741],\n",
              "       [0.96332128, 0.03667872],\n",
              "       [0.96414193, 0.03585807],\n",
              "       [0.96494489, 0.03505511],\n",
              "       [0.9657305 , 0.0342695 ],\n",
              "       [0.96649912, 0.03350088],\n",
              "       [0.96725109, 0.03274891],\n",
              "       [0.96798673, 0.03201327],\n",
              "       [0.96870638, 0.03129362],\n",
              "       [0.96941037, 0.03058963],\n",
              "       [0.97009901, 0.02990099],\n",
              "       [0.97077262, 0.02922738],\n",
              "       [0.97143149, 0.02856851],\n",
              "       [0.97207594, 0.02792406],\n",
              "       [0.97270627, 0.02729373],\n",
              "       [0.97332275, 0.02667725],\n",
              "       [0.97392568, 0.02607432],\n",
              "       [0.97451534, 0.02548466],\n",
              "       [0.97509201, 0.02490799],\n",
              "       [0.97565596, 0.02434404],\n",
              "       [0.97620745, 0.02379255],\n",
              "       [0.97674674, 0.02325326],\n",
              "       [0.97727409, 0.02272591],\n",
              "       [0.97778976, 0.02221024],\n",
              "       [0.97829399, 0.02170601],\n",
              "       [0.97878701, 0.02121299],\n",
              "       [0.97926908, 0.02073092],\n",
              "       [0.97974041, 0.02025959],\n",
              "       [0.98020125, 0.01979875],\n",
              "       [0.98065181, 0.01934819],\n",
              "       [0.98109232, 0.01890768],\n",
              "       [0.98152299, 0.01847701],\n",
              "       [0.98194402, 0.01805598],\n",
              "       [0.98235564, 0.01764436],\n",
              "       [0.98275803, 0.01724197],\n",
              "       [0.98315141, 0.01684859],\n",
              "       [0.98353596, 0.01646404],\n",
              "       [0.98391188, 0.01608812],\n",
              "       [0.98427936, 0.01572064],\n",
              "       [0.98463857, 0.01536143],\n",
              "       [0.98498969, 0.01501031],\n",
              "       [0.98533292, 0.01466708],\n",
              "       [0.9856684 , 0.0143316 ],\n",
              "       [0.98599633, 0.01400367],\n",
              "       [0.98631685, 0.01368315],\n",
              "       [0.98663014, 0.01336986],\n",
              "       [0.98693635, 0.01306365],\n",
              "       [0.98723563, 0.01276437],\n",
              "       [0.98752815, 0.01247185],\n",
              "       [0.98781405, 0.01218595],\n",
              "       [0.98809347, 0.01190653],\n",
              "       [0.98836656, 0.01163344],\n",
              "       [0.98863345, 0.01136655],\n",
              "       [0.9888943 , 0.0111057 ],\n",
              "       [0.98914922, 0.01085078],\n",
              "       [0.98939836, 0.01060164],\n",
              "       [0.98964183, 0.01035817],\n",
              "       [0.98987977, 0.01012023],\n",
              "       [0.9901123 , 0.0098877 ]])"
            ]
          },
          "metadata": {
            "tags": []
          },
          "execution_count": 16
        }
      ]
    },
    {
      "cell_type": "markdown",
      "metadata": {
        "id": "WYXf0BMgrXQe"
      },
      "source": [
        "That's an array with 300 rows (corresponding to 300 generated values for mean price), and 2 columns: the first column indicates the probability of no purchase, the second column the probability of purchase. Obviously, the lower the price, the higher the purchase probability.\n",
        "\n",
        "Let's store it in a variable called purchase_pr:"
      ]
    },
    {
      "cell_type": "code",
      "metadata": {
        "id": "faFHX2BarKp2"
      },
      "source": [
        "purchase_pr = Y_pr[:][:, 1]"
      ],
      "execution_count": 17,
      "outputs": []
    },
    {
      "cell_type": "markdown",
      "metadata": {
        "id": "P0X--5m2p-pZ"
      },
      "source": [
        "Now, in order to answer how purchase probability changes with a given change in price, we'll calculate the price elasticities."
      ]
    },
    {
      "cell_type": "code",
      "metadata": {
        "id": "Jy6immnuuA3l"
      },
      "source": [
        ""
      ],
      "execution_count": 17,
      "outputs": []
    }
  ]
}